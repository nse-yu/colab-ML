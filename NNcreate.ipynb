{
  "nbformat": 4,
  "nbformat_minor": 0,
  "metadata": {
    "colab": {
      "name": "NNcreate.ipynb",
      "provenance": [],
      "collapsed_sections": [
        "rCAObnrDw1gS"
      ],
      "authorship_tag": "ABX9TyNB/QeqxiuWBmWKVu4cBu0n",
      "include_colab_link": true
    },
    "kernelspec": {
      "name": "python3",
      "display_name": "Python 3"
    },
    "language_info": {
      "name": "python"
    }
  },
  "cells": [
    {
      "cell_type": "markdown",
      "metadata": {
        "id": "view-in-github",
        "colab_type": "text"
      },
      "source": [
        "<a href=\"https://colab.research.google.com/github/nse-yu/colab-ML/blob/main/NNcreate.ipynb\" target=\"_parent\"><img src=\"https://colab.research.google.com/assets/colab-badge.svg\" alt=\"Open In Colab\"/></a>"
      ]
    },
    {
      "cell_type": "markdown",
      "source": [
        "# ニューラルネットワーク構築"
      ],
      "metadata": {
        "id": "PMZJ3Fo-JLeD"
      }
    },
    {
      "cell_type": "code",
      "source": [
        "import numpy as np"
      ],
      "metadata": {
        "id": "-I4HdGLlJdq5"
      },
      "execution_count": 1,
      "outputs": []
    },
    {
      "cell_type": "markdown",
      "source": [
        "#### Numpyの多次元配列を用いてニューラルネットワークを作る"
      ],
      "metadata": {
        "id": "A7ybLCVjJQ_s"
      }
    },
    {
      "cell_type": "markdown",
      "source": [
        "##### numpyの練習"
      ],
      "metadata": {
        "id": "QYkdjkJHMFeN"
      }
    },
    {
      "cell_type": "markdown",
      "source": [
        "> １次元配列を作る"
      ],
      "metadata": {
        "id": "Q4S1qtDkKFyA"
      }
    },
    {
      "cell_type": "code",
      "execution_count": null,
      "metadata": {
        "colab": {
          "base_uri": "https://localhost:8080/"
        },
        "id": "gzwyN_ZiJH3z",
        "outputId": "942612e9-ddca-4eab-98e6-ff630ab649cf"
      },
      "outputs": [
        {
          "output_type": "stream",
          "name": "stdout",
          "text": [
            "[1 2 3 4]\n",
            "1\n",
            "(4,)\n"
          ]
        }
      ],
      "source": [
        "A = np.array([1,2,3,4])\n",
        "print(A)\n",
        "print(np.ndim(A)) #配列の次元数を返す  \n",
        "print(A.shape)"
      ]
    },
    {
      "cell_type": "markdown",
      "source": [
        "> ２次元配列を作る"
      ],
      "metadata": {
        "id": "LKDGy8FVKIDi"
      }
    },
    {
      "cell_type": "code",
      "source": [
        "B = np.array([[1,2],[3,4],[5,6]])\n",
        "print(B)\n",
        "print(np.ndim(B))\n",
        "print(B.shape)"
      ],
      "metadata": {
        "colab": {
          "base_uri": "https://localhost:8080/"
        },
        "id": "iyXE8uuEKKYK",
        "outputId": "99f3b1d5-4af7-49df-cf81-30f4a6a175d9"
      },
      "execution_count": null,
      "outputs": [
        {
          "output_type": "stream",
          "name": "stdout",
          "text": [
            "[[1 2]\n",
            " [3 4]\n",
            " [5 6]]\n",
            "2\n",
            "(3, 2)\n"
          ]
        }
      ]
    },
    {
      "cell_type": "markdown",
      "source": [
        "> 内積（ドット積）を計算する  \n",
        "  \n",
        "<u>内積は行列A,Bについて、Aの列数＝Bの行数が成り立てば計算可能</u>"
      ],
      "metadata": {
        "id": "B11rxuLZKd94"
      }
    },
    {
      "cell_type": "code",
      "source": [
        "# 同じ形状\n",
        "A = np.array([[1,2],[3,4]])\n",
        "B = np.array([[5,6],[7,8]])  \n",
        "print(np.dot(A,B))"
      ],
      "metadata": {
        "colab": {
          "base_uri": "https://localhost:8080/"
        },
        "id": "tFzrqFtiKkf6",
        "outputId": "0c665bd7-bf6c-44c8-ae7d-4a684c07c07e"
      },
      "execution_count": null,
      "outputs": [
        {
          "output_type": "stream",
          "name": "stdout",
          "text": [
            "[[19 22]\n",
            " [43 50]]\n"
          ]
        }
      ]
    },
    {
      "cell_type": "code",
      "source": [
        "# 違う形状  \n",
        "A = np.array([[1,2,3],[4,5,6]])\n",
        "B = np.array([[1,2],[3,4],[5,6]])\n",
        "print(np.dot(A,B))"
      ],
      "metadata": {
        "colab": {
          "base_uri": "https://localhost:8080/"
        },
        "id": "KyTIJMOXK-Av",
        "outputId": "c3598810-7205-4c54-cf02-db8bbf3e38b6"
      },
      "execution_count": null,
      "outputs": [
        {
          "output_type": "stream",
          "name": "stdout",
          "text": [
            "[[22 28]\n",
            " [49 64]]\n"
          ]
        }
      ]
    },
    {
      "cell_type": "markdown",
      "source": [
        "##### いざ、実装"
      ],
      "metadata": {
        "id": "O9mzOIPuMNYf"
      }
    },
    {
      "cell_type": "markdown",
      "source": [
        "> ニューラルネットワーク前提  \n",
        "  \n",
        "今回は、バイアスと活性化関数を省略、重みだけがあるとする。"
      ],
      "metadata": {
        "id": "eU3OxrVuMS85"
      }
    },
    {
      "cell_type": "code",
      "source": [
        "X = np.array([1,2]) #1×2\n",
        "W = np.array([[1,3,5],[2,4,6]]) #2×3\n",
        "print(X.shape,W.shape)  \n",
        "\n",
        "#内積の計算\n",
        "Y = np.dot(X,W)\n",
        "print(Y)"
      ],
      "metadata": {
        "colab": {
          "base_uri": "https://localhost:8080/"
        },
        "id": "RCWZZsAgMQGA",
        "outputId": "f328c5d0-6cf1-4bb3-a62c-bde6f3b8deef"
      },
      "execution_count": null,
      "outputs": [
        {
          "output_type": "stream",
          "name": "stdout",
          "text": [
            "(2,) (2, 3)\n",
            "[ 5 11 17]\n"
          ]
        }
      ]
    },
    {
      "cell_type": "markdown",
      "source": [
        "入力層の２つのニューロンそれぞれの重みの行列をW,  \n",
        "入力層の入力をX,    \n",
        "各ニューロンへの入力にかけられるバイアスの行列をB,  \n",
        "\n",
        "隠れ層の３つのニューロンへの入力をAとすると、第一層のニューロンへの入力は、  \n",
        "***\n",
        "A = XW + B  \n",
        "***   \n",
        "と表すことができる。"
      ],
      "metadata": {
        "id": "qN_TXHaKOA4Z"
      }
    },
    {
      "cell_type": "code",
      "source": [
        "X = np.array([1.0,0.5])\n",
        "W1 = np.array([[0.1,0.3,0.5],[0.2,0.4,0.6]])\n",
        "B1 = np.array([0.1,0.2,0.3])  \n",
        "\n",
        "# 入力層の出力\n",
        "A1 = np.dot(X,W1) + B1  "
      ],
      "metadata": {
        "id": "XT__bTiNO60K"
      },
      "execution_count": null,
      "outputs": []
    },
    {
      "cell_type": "markdown",
      "source": [
        "第一層への入力を、シグモイド関数で活性化させる。"
      ],
      "metadata": {
        "id": "uZ9e1VaNPsHo"
      }
    },
    {
      "cell_type": "code",
      "source": [
        "# シグモイド関数はこれだけでいい\n",
        "def sigmoid(x):\n",
        "  return 1/(1+np.exp(-x))    \n",
        "\n",
        "Z1 = sigmoid(A1)\n",
        "print(Z1) # 第一層の３つのニューロンそれぞれの活性化関数の出力"
      ],
      "metadata": {
        "colab": {
          "base_uri": "https://localhost:8080/"
        },
        "id": "yo14ebYYP1Qs",
        "outputId": "fa8868d9-1b9b-40c3-c64d-407841562d10"
      },
      "execution_count": null,
      "outputs": [
        {
          "output_type": "stream",
          "name": "stdout",
          "text": [
            "[0.57444252 0.66818777 0.75026011]\n"
          ]
        }
      ]
    },
    {
      "cell_type": "markdown",
      "source": [
        "同様に、第一層から第二層への出力も実装"
      ],
      "metadata": {
        "id": "1_BCA0qAQcVV"
      }
    },
    {
      "cell_type": "code",
      "source": [
        "W2 = np.array([[0.1,0.4],[0.2,0.5],[0.3,0.6]])\n",
        "B2 = np.array([0.1,0.2])  \n",
        "\n",
        "# 第二層への出力  \n",
        "A2 = np.dot(Z1,W2) + B2  \n",
        "Z2 = sigmoid(A2)"
      ],
      "metadata": {
        "id": "C0eHhkBTQiKN"
      },
      "execution_count": null,
      "outputs": []
    },
    {
      "cell_type": "markdown",
      "source": [
        "最後に、第二層から出力層への出力を実装する  \n",
        "  \n",
        "ただし、出力層の活性化関数は、これまでの層とは異なる実装をする。  \n",
        "*** \n",
        "一般的に、ニューラルネットワークでは、解決する問題によって、出力層で用いる活性化関数が異なる。  \n",
        "分類問題では、一般的には「恒等関数」を、分類問題では「ソフトマックス関数」を用いる。\n"
      ],
      "metadata": {
        "id": "egNE7isaRHRl"
      }
    },
    {
      "cell_type": "code",
      "source": [
        "# ただ入力をそのまま流すだけの関数（恒等関数）\n",
        "def identity_function(x):\n",
        "  return x\n",
        "\n",
        "W3 = np.array([[0.1,0.3],[0.2,0.4]])\n",
        "B3 = np.array([0.1,0.2])\n",
        "\n",
        "A3 = np.dot(Z2,W3) + B3\n",
        "Y = identity_function(A3) # ここまでが一連の出力"
      ],
      "metadata": {
        "id": "2DrHqgvCRoZR"
      },
      "execution_count": null,
      "outputs": []
    },
    {
      "cell_type": "markdown",
      "source": [
        "> ここまでの実装をまとめる"
      ],
      "metadata": {
        "id": "91ZReyk3SlCD"
      }
    },
    {
      "cell_type": "code",
      "source": [
        "# ニューラルネットワークの各重み、バイアスを初期化する\n",
        "def init_network():\n",
        "  network = {}\n",
        "  network[\"W1\"] = np.array([[0.1,0.3,0.5],[0.2,0.4,0.6]])  \n",
        "  network[\"b1\"] = np.array([0.1,0.2,0.3])  \n",
        "  network[\"W2\"] = np.array([[0.1,0.4],[0.2,0.5],[0.3,0.6]])  \n",
        "  network[\"b2\"] = np.array([0.1,0.2])  \n",
        "  network[\"W3\"] = np.array([[0.1,0.3],[0.2,0.4]])  \n",
        "  network[\"b3\"] = np.array([0.1,0.2])  \n",
        "  return network\n",
        "\n",
        "# ネットワーク計算\n",
        "def forward(network,x):\n",
        "  W1,W2,W3 = network[\"W1\"],network[\"W2\"],network[\"W3\"]\n",
        "  b1,b2,b3 = network[\"b1\"],network[\"b2\"],network[\"b3\"]\n",
        "\n",
        "  a1 = np.dot(x,W1) + b1\n",
        "  z1 = sigmoid(a1)\n",
        "\n",
        "  a2 = np.dot(Z1,W2) + b2\n",
        "  z2 = sigmoid(a2)\n",
        "\n",
        "  a3 = np.dot(z2,W3) + b3\n",
        "  y = identity_function(a3)\n",
        "\n",
        "  return y  \n",
        "\n",
        "network = init_network()\n",
        "x = np.array([1.0,0.5])\n",
        "y = forward(network,x)\n",
        "print(y)"
      ],
      "metadata": {
        "colab": {
          "base_uri": "https://localhost:8080/"
        },
        "id": "mAC5dCYGSnMI",
        "outputId": "ff39af6c-c341-462d-e3da-d4d280888724"
      },
      "execution_count": null,
      "outputs": [
        {
          "output_type": "stream",
          "name": "stdout",
          "text": [
            "[0.31682708 0.69627909]\n"
          ]
        }
      ]
    },
    {
      "cell_type": "markdown",
      "source": [
        "### MNISTデータセットでニューラルネットワーク"
      ],
      "metadata": {
        "id": "29m3okh_fR7s"
      }
    },
    {
      "cell_type": "markdown",
      "source": [
        "手書き文字の分類をやってみよう。  \n",
        "用件：<u>ニューロン数</u>  \n",
        "* 入力層：28×28 = 784  \n",
        "* 出力層：10クラス分類（0～9）より、10とする  \n",
        "* 中間層：１つ目（50個）、２つ目（100個）"
      ],
      "metadata": {
        "id": "QQ5wpuUFfg2V"
      }
    },
    {
      "cell_type": "code",
      "source": [
        "from tensorflow.keras.datasets import mnist"
      ],
      "metadata": {
        "id": "okRXALHkgZds"
      },
      "execution_count": 2,
      "outputs": []
    },
    {
      "cell_type": "markdown",
      "source": [
        "### 損失関数"
      ],
      "metadata": {
        "id": "_Khm06-mwhgx"
      }
    },
    {
      "cell_type": "markdown",
      "source": [
        "> 損失関数"
      ],
      "metadata": {
        "id": "x4vCstDjwtgD"
      }
    },
    {
      "cell_type": "markdown",
      "source": [
        "１．平均二乗誤差    \n",
        "![img](https://assets.st-note.com/production/uploads/images/24199642/picture_pc_00fb7e2e324cd5ef0099cae0c3d775fb.png)  "
      ],
      "metadata": {
        "id": "S7hRlAQ0w70r"
      }
    },
    {
      "cell_type": "code",
      "source": [
        "def mean_squared_error(y,t):\n",
        "  return 0.5 * sum((y - t) **2)"
      ],
      "metadata": {
        "id": "uRMt3ZDswkG6"
      },
      "execution_count": null,
      "outputs": []
    },
    {
      "cell_type": "markdown",
      "source": [
        "２．クロスエントロピー誤差  \n",
        "![img](https://assets.st-note.com/production/uploads/images/24201099/picture_pc_7105dc47dd021e875dfbd2407b0078fc.png)"
      ],
      "metadata": {
        "id": "dtHQaQ4lxa4l"
      }
    },
    {
      "cell_type": "code",
      "source": [
        "def cross_entropy_error(y,t):\n",
        "  if y.ndim == 1:\n",
        "    t = t.reshape(1,t.size)\n",
        "    y = y.reshape(1,y.size)\n",
        "    batch_size = y.shape[0]\n",
        "  return -np.sum(t * np.log(y)) / batch_size #-Infを防ぐ微小値delta  \n",
        "  #バッチまるごと受け取りつつ、バッチサイズ分の平均をとることで、実質１入力の誤差としている。"
      ],
      "metadata": {
        "id": "JnZaGnhZxfBc"
      },
      "execution_count": null,
      "outputs": []
    },
    {
      "cell_type": "markdown",
      "source": [
        "２つの損失関数を動作比較"
      ],
      "metadata": {
        "id": "MzIGMSqYyAVt"
      }
    },
    {
      "cell_type": "code",
      "source": [
        "y = [0.1,0.05,0.6,0,0.05,0.3,0.1,0,0,0]\n",
        "t = [0,0,0,0,0.1,0.05,0.4,0.2,0.0,0]\n",
        "\n",
        "print(mean_squared_error(np.array(y),np.array(t)))\n",
        "cross_entropy_error(np.array(y),np.array(t))"
      ],
      "metadata": {
        "colab": {
          "base_uri": "https://localhost:8080/"
        },
        "id": "4xsJ8yHOyE7C",
        "outputId": "7d568d9f-77e0-4811-83ca-2bd8ba3a5a15"
      },
      "execution_count": null,
      "outputs": [
        {
          "output_type": "stream",
          "name": "stdout",
          "text": [
            "0.28375000000000006\n"
          ]
        },
        {
          "output_type": "execute_result",
          "data": {
            "text/plain": [
              "4.504424418294715"
            ]
          },
          "metadata": {},
          "execution_count": 36
        }
      ]
    },
    {
      "cell_type": "markdown",
      "source": [
        "３．ソフトマックス関数  \n",
        "![img](https://cdn-ak.f.st-hatena.com/images/fotolife/n/nok-0930-ss/20171203/20171203173559.png)"
      ],
      "metadata": {
        "id": "AHsovRuNLPKN"
      }
    },
    {
      "cell_type": "code",
      "source": [
        "def softmax(a):\n",
        "  c = np.max(a)\n",
        "  exp_a = np.exp(a - c) # overflow対策\n",
        "  sum_exp_a = np.sum(exp_a)\n",
        "  return exp_a / sum_exp_a"
      ],
      "metadata": {
        "id": "jHmvRenFKlRB"
      },
      "execution_count": null,
      "outputs": []
    },
    {
      "cell_type": "markdown",
      "source": [
        "## 練習スペース"
      ],
      "metadata": {
        "id": "ULkH6NDt2xd6"
      }
    },
    {
      "cell_type": "markdown",
      "source": [
        "> 関数定義"
      ],
      "metadata": {
        "id": "Zi2o2st9CKgd"
      }
    },
    {
      "cell_type": "code",
      "source": [
        "def getReprocessData(normalize=False,flatten=True):\n",
        "  (x_train,t_train),(x_test,t_test) = mnist.load_data()\n",
        "  #基本的な情報\n",
        "  print(\"===========train data===========\") \n",
        "  print(\"img  :\",x_train.shape) #画像\n",
        "  print(\"label: \",t_train.shape) #対応するラベル\n",
        "  print(\"============test data===========\") \n",
        "  print(\"img  :\",x_test.shape) #画像\n",
        "  print(\"label:\",t_test.shape) #対応するラベル\n",
        "\n",
        "  if flatten == True:\n",
        "    print(\"--------------------------------\")\n",
        "    print(f\"processing..... -> fixed: {x_train.shape} ⇔ {x_train.reshape(60000,-1).shape}\")\n",
        "    x_train = x_train.reshape(60000,-1)\n",
        "    print(f\"processing..... -> fixed: {x_test.shape} ⇔ {x_test.reshape(10000,-1).shape}\")\n",
        "    x_test = x_test.reshape(10000,-1)\n",
        "\n",
        "  if normalize == True and flatten == True:\n",
        "    print(\"--------------------------------\")\n",
        "    x_train = x_train/255\n",
        "    x_test = x_test/255\n",
        "    print(f\"confirm: x_train maxElement = {x_train.max()}, x_test maxElement = {x_test.max()}\")\n",
        "    \n",
        "  print(\"------------FINISHED------------\")\n",
        "\n",
        "  return (x_train,t_train),(x_test,t_test)"
      ],
      "metadata": {
        "id": "GaJymtkw20lV"
      },
      "execution_count": null,
      "outputs": []
    },
    {
      "cell_type": "code",
      "source": [
        "import pickle\n",
        "def init_network():\n",
        "  with open(\"sample_weight.pkl\",\"rb\") as f:\n",
        "    network = pickle.load(f)\n",
        "    return network"
      ],
      "metadata": {
        "id": "6vqbN-xEJkHt"
      },
      "execution_count": null,
      "outputs": []
    },
    {
      "cell_type": "code",
      "source": [
        "def predict(network,x,log=True):\n",
        "  W1,W2,W3 = network[\"W1\"],network[\"W2\"],network[\"W3\"]\n",
        "  b1,b2,b3 = network[\"b1\"],network[\"b2\"],network[\"b3\"]\n",
        "  if log == True:\n",
        "    print(\"/===============START epoch===============/\")\n",
        "    print(f\"W1.shape={W1.shape}, W2.shape={W2.shape}, W3.shape={W3.shape}\")\n",
        "    print(f\"b1.shape={b1.shape}, b2.shape={b2.shape}, b3.shape={b3.shape}\")\n",
        "    print(f\"In ===> x.shape={x.shape}\")\n",
        "\n",
        "  a1 = np.dot(x,W1) + b1\n",
        "  z1 = sigmoid(a1)\n",
        "\n",
        "  a2 = np.dot(z1,W2) + b2\n",
        "  z2 = sigmoid(a2)\n",
        "\n",
        "  a3 = np.dot(z2,W3) + b3\n",
        "  y = softmax(a3)\n",
        "  if log == True:\n",
        "    print(f\"a2.shape={a2.shape}, z2.shape={z2.shape}\")\n",
        "    print(f\"a1.shape={a1.shape}, z1.shape={z1.shape}\")\n",
        "    print(f\"a3.shape={a3.shape}, y.shape={y.shape}\")\n",
        "\n",
        "    print(\"/=============END epoch==============/\")\n",
        "\n",
        "  return y  "
      ],
      "metadata": {
        "id": "FbgkDK3mKuA9"
      },
      "execution_count": null,
      "outputs": []
    },
    {
      "cell_type": "markdown",
      "source": [
        "> 前処理後のデータを取得"
      ],
      "metadata": {
        "id": "VkPMpOrFCVUU"
      }
    },
    {
      "cell_type": "code",
      "source": [
        "(x_train,t_train),(x_test,t_test) = getReprocessData(normalize=True)\n",
        "print(x_train.shape)\n",
        "print(np.unique(t_train))\n",
        "print(t_train)"
      ],
      "metadata": {
        "colab": {
          "base_uri": "https://localhost:8080/"
        },
        "id": "993wOQmzCRja",
        "outputId": "f87e46c4-a7d7-48fa-e43b-f109f946bcba"
      },
      "execution_count": null,
      "outputs": [
        {
          "output_type": "stream",
          "name": "stdout",
          "text": [
            "===========train data===========\n",
            "img  : (60000, 28, 28)\n",
            "label:  (60000,)\n",
            "============test data===========\n",
            "img  : (10000, 28, 28)\n",
            "label: (10000,)\n",
            "--------------------------------\n",
            "processing..... -> fixed: (60000, 28, 28) ⇔ (60000, 784)\n",
            "processing..... -> fixed: (10000, 28, 28) ⇔ (10000, 784)\n",
            "--------------------------------\n",
            "confirm: x_train maxElement = 1.0, x_test maxElement = 1.0\n",
            "------------FINISHED------------\n",
            "(60000, 784)\n",
            "[0 1 2 3 4 5 6 7 8 9]\n",
            "[5 0 4 ... 5 6 8]\n"
          ]
        }
      ]
    },
    {
      "cell_type": "markdown",
      "source": [
        "> 初期ネットワークの取得"
      ],
      "metadata": {
        "id": "u8fvpKcnKI1T"
      }
    },
    {
      "cell_type": "code",
      "source": [
        "network = init_network() #重みの初期値が格納されている  \n",
        "print(network)"
      ],
      "metadata": {
        "id": "RV_ZN79YJ7VE"
      },
      "execution_count": null,
      "outputs": []
    },
    {
      "cell_type": "markdown",
      "source": [
        "> 予測の開始"
      ],
      "metadata": {
        "id": "mIDmpgnhKzv2"
      }
    },
    {
      "cell_type": "markdown",
      "source": [
        "<u>ベータ版</u>"
      ],
      "metadata": {
        "id": "5wFNIfP2LoxY"
      }
    },
    {
      "cell_type": "code",
      "source": [
        "accuracy_cnt = 0\n",
        "for i in range(len(x_test)):\n",
        "  y = predict(network,x_test[i])\n",
        "  p = np.argmax(y)\n",
        "  if p == t_test[i]:\n",
        "    accuracy_cnt += 1\n",
        "print(\"Accuracy:\",str(float(accuracy_cnt) / len(x_test)))"
      ],
      "metadata": {
        "id": "_foDVhm5LoYC"
      },
      "execution_count": null,
      "outputs": []
    },
    {
      "cell_type": "markdown",
      "source": [
        "<u>バッチ処理版（こっちのほうが何倍も速い）</u>"
      ],
      "metadata": {
        "id": "RcpVhbL3MEXK"
      }
    },
    {
      "cell_type": "markdown",
      "source": [
        "y_batchのargmaxでaxis=1をしているところについて、  \n",
        "y_batchの出力は、各繰り返しにおいて、以下のような出力となっている。   \n",
        "\n",
        "<br> \n",
        "result_per_batch = [ [batch_data1], [batch_data2], [...] ]  \n",
        "※ベータ版では、このbatch_dataを１つ１つ処理していた。  \n",
        "※batch_dataにも複数の値が含まれており、その最大値を求める。  \n",
        "<br>\n",
        "このbatch_dataごとに最大値を出力し、以下のようにするのがaxis=1の役割である。\n",
        "\n",
        "result_perBatch_max = [ [max1], [max2], [...] ]"
      ],
      "metadata": {
        "id": "9RdeDgonlHF-"
      }
    },
    {
      "cell_type": "code",
      "source": [
        "batch_size = 100 #バッチ（入力データの１まとまり）\n",
        "accuracy_cnt = 0\n",
        "\n",
        "for i in range(0,len(x_test),batch_size): #テストデータ数\n",
        "  x_batch = x_test[i:i+batch_size]\n",
        "  y_batch = predict(network,x_batch,log=False)\n",
        "  p = np.argmax(y_batch,axis=1) #最大値をもつインデックスを抽出,axis=1により、１バッチの各結果ごとに最大値を取得\n",
        "  accuracy_cnt += np.sum(p == t_test[i:i+batch_size])\n",
        "print(\"Accuracy:\",str(float(accuracy_cnt) / len(x_test)))"
      ],
      "metadata": {
        "id": "hH6RoY3iK2gj"
      },
      "execution_count": null,
      "outputs": []
    },
    {
      "cell_type": "markdown",
      "source": [
        "#### 微分"
      ],
      "metadata": {
        "id": "Z04PO8pvz-Ki"
      }
    },
    {
      "cell_type": "markdown",
      "source": [
        "勾配降下法によってパラメータを最適化するにあたり、まず勾配を扱うために「**微分**」の実装をする必要がある。  \n",
        "微分を実装する上で気を付ける必要があるのは、定義上発生しうる「誤差」である。  \n",
        "誤差は主に２つ発生しうる。  \n",
        "１．hを0に近づけるうえでの丸め誤差  \n",
        "２．f(x+h)-f(x)の誤差  \n",
        "<br>\n",
        "これは、どちらにしても「hを極小に近づけることができない」という定義と現実の差が原因となっている。  \n",
        "<br>  \n",
        "***\n",
        "だからといって、hをe-100とかにすると、１で紹介した「丸め誤差」が発生する。  \n",
        "**丸め誤差**とは、言ってしまえば、小さすぎて見えなくなるという現象。見えないから無視されてしまう、それによって発生する誤差である。   \n",
        "***\n",
        "また、２に関しては、x+hとxの差が、hが極小であることによって「超微小」の差分となり、その瞬間的範囲での微分をしたいのにもかかわらず、hの限界によって、真の微分との誤差が生じてしまうというものだ。   \n",
        "***  \n",
        "<Br>  \n",
        "\n",
        "その誤差をできるだけ軽くする方法として、  \n",
        "１．小さすぎないhを使用する  \n",
        "２．中心差分f(x+h)-f(x-h)を使用する  \n",
        "というものがある。"
      ],
      "metadata": {
        "id": "FTWq6tHP0MO2"
      }
    },
    {
      "cell_type": "markdown",
      "source": [
        "> 誤差を考慮した微分関数"
      ],
      "metadata": {
        "id": "bLVFO3FX3Uah"
      }
    },
    {
      "cell_type": "code",
      "source": [
        "def numerical_diff(f,x):\n",
        "  h = 1e-4 #小さすぎないh\n",
        "  return (f(x+h) - f(x-h)) / (2 * h) #中心差分を利用"
      ],
      "metadata": {
        "id": "xmd_7Evhz_iz"
      },
      "execution_count": null,
      "outputs": []
    },
    {
      "cell_type": "markdown",
      "source": [
        "> 偏微分に対応した関数  \n",
        "  \n"
      ],
      "metadata": {
        "id": "OZ3KUK1V5TB1"
      }
    },
    {
      "cell_type": "code",
      "source": [
        "def numerical_gradient(f,x):\n",
        "  h = 1e-4\n",
        "  grad = np.zeros_like(x)   \n",
        "  \n",
        "  for idx in range(x.size):\n",
        "    tmp_val = x[idx]\n",
        "    \n",
        "    #f(x+h)の計算\n",
        "    x[idx] = tmp_val + h\n",
        "    fxh1 = f(x)\n",
        "\n",
        "    #f(x-h)の計算\n",
        "    x[idx] = tmp_val - h\n",
        "    fxh2 = f(x)\n",
        "\n",
        "    grad[idx] = (fxh1 - fxh2) / (2*h)\n",
        "    x[idx] = tmp_val \n",
        "  return grad"
      ],
      "metadata": {
        "id": "R6-I-2625VcD"
      },
      "execution_count": null,
      "outputs": []
    },
    {
      "cell_type": "markdown",
      "source": [
        "> 多次元対応した偏微分"
      ],
      "metadata": {
        "id": "PZwo-VSPViPR"
      }
    },
    {
      "cell_type": "code",
      "source": [
        "#誤差関数と最適化対象のパラメータ（重みなど）を引数とする\n",
        "def numerical_gradient2(f,x):\n",
        "    h = 1e-4 # 0.0001\n",
        "    grad = np.zeros_like(x)\n",
        "    \n",
        "    it = np.nditer(x, flags=['multi_index'], op_flags=['readwrite'])\n",
        "    while not it.finished:\n",
        "        idx = it.multi_index\n",
        "        tmp_val = x[idx]\n",
        "        x[idx] = tmp_val + h\n",
        "        fxh1 = f(x) # f(x+h)\n",
        "        \n",
        "        x[idx] = tmp_val - h \n",
        "        fxh2 = f(x) # f(x-h)\n",
        "        grad[idx] = (fxh1 - fxh2) / (2*h)\n",
        "        \n",
        "        x[idx] = tmp_val # 値を元に戻す\n",
        "        it.iternext()   \n",
        "        \n",
        "    return grad"
      ],
      "metadata": {
        "id": "kqnIdQ8YUun5"
      },
      "execution_count": 232,
      "outputs": []
    },
    {
      "cell_type": "markdown",
      "source": [
        "> バッチ対応した損失関数"
      ],
      "metadata": {
        "id": "uVrjHe39Vle7"
      }
    },
    {
      "cell_type": "code",
      "source": [
        "def cross_entropy_error2(y,t):\n",
        "  if y.ndim == 1:\n",
        "    t = t.reshape(1,t.size)\n",
        "    y = y.reshape(1,y.size)\n",
        "  \n",
        "  batch_size = y.shape[0]\n",
        "  return -np.sum(np.log(y[np.arange(batch_size),t])) / batch_size #-Infを防ぐ微小値delta  \n",
        "  #バッチまるごと受け取りつつ、バッチサイズ分の平均をとることで、実質１入力の誤差としている。"
      ],
      "metadata": {
        "id": "_ExRCQLbVrNf"
      },
      "execution_count": 239,
      "outputs": []
    },
    {
      "cell_type": "markdown",
      "source": [
        "> 勾配降下法の実装    \n",
        "  \n",
        "ちなみに、訓練データの中から一部のデータのみで損失関数の評価を行う場合（ミニバッチ）、勾配降下法ではなく「**確率的勾配降下法(stochastic gradient descent)**」という。略してSGDともいう。  \n",
        "だからと言ってやることは変わりなく、ただ確率的（ランダムで）に選ばれたデータに対して行う勾配降下法という意味で用いる表現。  \n",
        "\n",
        "  \n",
        "![kobai.png](data:image/png;base64,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)"
      ],
      "metadata": {
        "id": "6FHUUvFt_1Zr"
      }
    },
    {
      "cell_type": "code",
      "source": [
        "def gradient_descent(f,init_x,lr=0.01,step_num=100):\n",
        "  #fは最適化したい関数（損失関数）\n",
        "  #lrは学習率（１学習でどれだけパラメータを更新するかの指標。手動設定する必要がある「ハイパーパラメータ」というもの。）\n",
        "  #step_numは学習の繰り返し数\n",
        "\n",
        "  x = init_x\n",
        "  for i in range(step_num): \n",
        "    grad = numerical_gradient(f,x) \n",
        "    x -= lr*grad  #更新式。step_num回繰り返し、これを最適化していく。\n",
        "  return x"
      ],
      "metadata": {
        "id": "N9Z_aK9S_4QY"
      },
      "execution_count": null,
      "outputs": []
    },
    {
      "cell_type": "markdown",
      "source": [
        "> 勾配を求めるクラス"
      ],
      "metadata": {
        "id": "XLC6QJAwEXDl"
      }
    },
    {
      "cell_type": "code",
      "source": [
        "import numpy as np\n",
        "\n",
        "class simpleNet:\n",
        "  def __init__(self):\n",
        "    self.W = np.random.standard_normal((2,3))  #重みを初期化 \n",
        "\n",
        "  #ニューロンの出力\n",
        "  def predict(self,x):\n",
        "    return np.dot(x,self.W)\n",
        "  \n",
        "  #サンプルとラベルの誤差\n",
        "  def loss(self,x,t):\n",
        "    z = self.predict(x)\n",
        "    y = softmax(z)\n",
        "    loss = cross_entropy_error(y,t)\n",
        "\n",
        "    return loss"
      ],
      "metadata": {
        "id": "puEbR0YcEc_c"
      },
      "execution_count": null,
      "outputs": []
    },
    {
      "cell_type": "markdown",
      "source": [
        "> 動作確認"
      ],
      "metadata": {
        "id": "3NslnSnXFIog"
      }
    },
    {
      "cell_type": "code",
      "source": [
        "net = simpleNet()\n",
        "\n",
        "#重み確認\n",
        "print(net.W)\n",
        "\n",
        "#predict確認\n",
        "a = np.array([0.6,0.9])\n",
        "print(net.predict(a))\n",
        "\n",
        "#loss確認\n",
        "l = np.array([0,0,1])\n",
        "print(net.loss(a,l))"
      ],
      "metadata": {
        "colab": {
          "base_uri": "https://localhost:8080/"
        },
        "id": "zYLxIor4FII2",
        "outputId": "3c0714f9-d34d-47f7-a47a-496748a55576"
      },
      "execution_count": null,
      "outputs": [
        {
          "output_type": "stream",
          "name": "stdout",
          "text": [
            "[[-0.28474458 -1.36772479  0.92005605]\n",
            " [-2.99054779  0.24370821  0.94749072]]\n",
            "[-2.86233976 -0.60129748  1.40477528]\n",
            "0.13848991045705983\n"
          ]
        }
      ]
    },
    {
      "cell_type": "markdown",
      "source": [
        "#### ミニバッチ処理版\n",
        "\n",
        "バッチ処理のようにカタマリを作って一気に処理するという形ではなく、一部データのみをテストの対象とし、それを全体の近似として用いるのが「ミニバッチ処理」である。"
      ],
      "metadata": {
        "id": "FQjMsoOWtRXQ"
      }
    },
    {
      "cell_type": "markdown",
      "source": [
        "> 60000個のテストデータから、10個のみランダムで選定する。"
      ],
      "metadata": {
        "id": "70Z6u4F4uh1H"
      }
    },
    {
      "cell_type": "code",
      "source": [
        "train_size = x_train.shape[0] #60000\n",
        "batch_size = 10\n",
        "batch_mask = np.random.choice(train_size,batch_size) #バッチ単位でランダム抽出するデータのindexを取得\n",
        "x_batch = x_train[batch_mask] #そのindexから対応するデータを取得\n",
        "t_batch = t_train[batch_mask] #同上"
      ],
      "metadata": {
        "colab": {
          "base_uri": "https://localhost:8080/"
        },
        "id": "mn0QkyiHuoU5",
        "outputId": "302d22a4-fe54-47b4-9830-0f0361121996"
      },
      "execution_count": null,
      "outputs": [
        {
          "output_type": "stream",
          "name": "stdout",
          "text": [
            "(784,)\n"
          ]
        }
      ]
    },
    {
      "cell_type": "markdown",
      "source": [
        "> ミニバッチに対応したクロスエントロピー誤差関数"
      ],
      "metadata": {
        "id": "x-ECVXmtwi-F"
      }
    },
    {
      "cell_type": "code",
      "source": [
        "def cross_entropy_error(y,t):\n",
        "  if y.ndim == 1: #ndim==1とは、array([1,2,3])みたいなネストしてないやつ\n",
        "    t = t.reshape(1,t.size)\n",
        "    y = y.reshape(1,y.size)\n",
        "  \n",
        "  batch_size = y.shape[0] #バッチ（処理単位）の総数\n",
        "  return -np.sum(t * np.log(y)) / batch_size #-Infを防ぐ微小値delta  \n",
        "  #バッチまるごと受け取りつつ、バッチサイズ分の平均をとることで、実質１入力の誤差としている。"
      ],
      "metadata": {
        "id": "1qo65QEiwh6G"
      },
      "execution_count": null,
      "outputs": []
    },
    {
      "cell_type": "markdown",
      "source": [
        "###学習アルゴリズムの実装"
      ],
      "metadata": {
        "id": "CNBue504J63w"
      }
    },
    {
      "cell_type": "markdown",
      "source": [
        "#### 2層ニューラルネットワーク"
      ],
      "metadata": {
        "id": "l3dX-zU7J_K2"
      }
    },
    {
      "cell_type": "code",
      "source": [
        "class TwoLayerNet:\n",
        "  def __init__(self,input_size,hidden_size,output_size,weight_init_std=0.01):\n",
        "    #==========重みの初期化==========\n",
        "    self.params = {}\n",
        "    #1層目\n",
        "    self.params[\"W1\"] = weight_init_std * np.random.standard_normal((input_size,hidden_size)) #重み\n",
        "    self.params[\"b1\"] = np.zeros(hidden_size) #バイアス\n",
        "    #2層目\n",
        "    self.params[\"W2\"] = weight_init_std * np.random.standard_normal((hidden_size,output_size)) #重み\n",
        "    self.params[\"b2\"] = np.zeros(output_size) #バイアス\n",
        "\n",
        "  def predict(self,x):\n",
        "    W1, W2 = self.params[\"W1\"],self.params[\"W2\"]\n",
        "    b1, b2 = self.params[\"b1\"],self.params[\"b2\"]\n",
        "\n",
        "    #===========活性化処理===========\n",
        "    #1層目\n",
        "    a1 = np.dot(x,W1) + b1\n",
        "    z1 = sigmoid(a1) #出力\n",
        "    #2層目\n",
        "    a2 = np.dot(z1,W2) + b2\n",
        "    y = softmax(a2) #出力\n",
        "\n",
        "    return y\n",
        "\n",
        "  def loss(self,x,t):\n",
        "    y = self.predict(x)\n",
        "    return cross_entropy_error2(y, t) #予測値と正解との誤差\n",
        "\n",
        "  def accuracy(self,x,t):\n",
        "    y = predict(x)\n",
        "    y = np.argmax(y, axis=1)\n",
        "    t = np.argmax(t, axis=1)\n",
        "\n",
        "    accuracy = np.sum(y == t) / float(x.shape[0]) #正解数/データ総数\n",
        "    return accuracy\n",
        "\n",
        "  def numerical_gradient(self,x,t):\n",
        "    loss_W = lambda W: self.loss(x,t) #最適化ループに渡す損失関数\n",
        "\n",
        "    #==========パラメータ最適化処理==========\n",
        "    grads = {}\n",
        "    grads[\"W1\"] = numerical_gradient2(loss_W,self.params[\"W1\"]) #parameterがすべて最適化されて返される\n",
        "    grads[\"b1\"] = numerical_gradient2(loss_W,self.params[\"b1\"])\n",
        "    grads[\"W2\"] = numerical_gradient2(loss_W,self.params[\"W2\"])\n",
        "    grads[\"b2\"] = numerical_gradient2(loss_W,self.params[\"b2\"])\n",
        "    \n",
        "    return grads"
      ],
      "metadata": {
        "id": "Squbsfh9KCZ0"
      },
      "execution_count": 242,
      "outputs": []
    },
    {
      "cell_type": "markdown",
      "source": [
        "> インスタンス化して確認しよう"
      ],
      "metadata": {
        "id": "jSkNj_sKOV_I"
      }
    },
    {
      "cell_type": "code",
      "source": [
        "net = TwoLayerNet(input_size=28*28,hidden_size=100,output_size=10) #各入力画像サイズが28*28, 出力がラベル10クラス, 隠れ層を適当に設定\n",
        "\n",
        "print(net.params[\"W1\"].shape)\n",
        "print(net.params[\"b1\"].shape)\n",
        "print(net.params[\"W2\"].shape)\n",
        "print(net.params[\"b2\"].shape)"
      ],
      "metadata": {
        "colab": {
          "base_uri": "https://localhost:8080/"
        },
        "id": "vWcj3AZFOaeL",
        "outputId": "e4ff82a2-a2f4-4844-86d3-1fcca2a2ff93"
      },
      "execution_count": 234,
      "outputs": [
        {
          "output_type": "stream",
          "name": "stdout",
          "text": [
            "(784, 100)\n",
            "(100,)\n",
            "(100, 10)\n",
            "(10,)\n"
          ]
        }
      ]
    },
    {
      "cell_type": "markdown",
      "source": [
        "> predictしよう"
      ],
      "metadata": {
        "id": "pcuN5O8iO_rV"
      }
    },
    {
      "cell_type": "code",
      "source": [
        "x = np.random.standard_normal((100,784)) #画像100枚分として入力\n",
        "y = net.predict(x)\n",
        "print(y[:5]) #途中までだけど見てみよう"
      ],
      "metadata": {
        "colab": {
          "base_uri": "https://localhost:8080/"
        },
        "id": "wAufEmzXPBlc",
        "outputId": "47691901-5e39-4640-e662-9a2157369c80"
      },
      "execution_count": null,
      "outputs": [
        {
          "output_type": "stream",
          "name": "stdout",
          "text": [
            "[[0.00100914 0.00098215 0.00106934 0.00103882 0.00094852 0.00100128\n",
            "  0.00096524 0.00097775 0.00099623 0.00099879]\n",
            " [0.00101778 0.00098774 0.00108879 0.00104078 0.00094684 0.00100793\n",
            "  0.00095923 0.00097504 0.00098009 0.0010038 ]\n",
            " [0.00099622 0.00097942 0.00107591 0.0010582  0.00096666 0.00100392\n",
            "  0.00097226 0.00097801 0.00096655 0.00100473]\n",
            " [0.00100959 0.00098666 0.0010828  0.00103932 0.00095003 0.00100783\n",
            "  0.00097108 0.00097491 0.00098077 0.00100578]\n",
            " [0.0010073  0.00098232 0.00106513 0.00104027 0.00095312 0.00099326\n",
            "  0.00096664 0.00097926 0.00098911 0.0010102 ]]\n"
          ]
        }
      ]
    },
    {
      "cell_type": "markdown",
      "source": [
        "> ミニバッチでやってみよう"
      ],
      "metadata": {
        "id": "GKG6Rh9ERgGy"
      }
    },
    {
      "cell_type": "code",
      "source": [
        "(x_train,y_train),(x_test,t_test) = getReprocessData(normalize=True)\n",
        "train_loss_list = []\n",
        "\n",
        "#ハイパーパラメータ\n",
        "iters_num = 10000 #学習繰り返し数\n",
        "train_size = x_train.shape[0] #60000\n",
        "batch_size = 100 #分割単位\n",
        "learning_rate = 0.1 #学習率\n",
        "\n",
        "network = TwoLayerNet(input_size=28*28,hidden_size=50,output_size=10)\n",
        "\n",
        "for i in range(iters_num):\n",
        "  #ミニバッチの取得\n",
        "  batch_mask = np.random.choice(train_size,batch_size) #60000のエントリから100だけ選出\n",
        "  x_batch = x_train[batch_mask]\n",
        "  t_batch = t_train[batch_mask]\n",
        "\n",
        "  #勾配の計算\n",
        "  grad = network.numerical_gradient(x_batch,t_batch) #最適化パラメータが返される #遅すぎぃ！！\n",
        "\n",
        "  #パラメータの更新\n",
        "  for key in (\"W1\",\"b1\",\"W2\",\"b2\"):\n",
        "    network.params[key] -= learning_rate * grad[key]\n",
        "\n",
        "  #学習経過の記録\n",
        "  loss = network.loss(x_batch,t_batch) #x_batchからpredictしたyを、t_batchとの誤差で評価\n",
        "  train_loss_list.append(loss)\n",
        "\n",
        "  print(f\"epochs [{i}/{iters_num}] ---losses {train_loss_list}\")"
      ],
      "metadata": {
        "id": "_6DaISitRiWt"
      },
      "execution_count": null,
      "outputs": []
    },
    {
      "cell_type": "markdown",
      "source": [
        "### データ確認など"
      ],
      "metadata": {
        "id": "rCAObnrDw1gS"
      }
    },
    {
      "cell_type": "markdown",
      "source": [
        "> 画像表示"
      ],
      "metadata": {
        "id": "CcwVbTdBCgLZ"
      }
    },
    {
      "cell_type": "code",
      "source": [
        "import matplotlib.pyplot as plt"
      ],
      "metadata": {
        "id": "PBV0ngHvCiCE"
      },
      "execution_count": null,
      "outputs": []
    },
    {
      "cell_type": "markdown",
      "source": [
        "> imgデータのみの抽出"
      ],
      "metadata": {
        "id": "ZAmpSALBC6D6"
      }
    },
    {
      "cell_type": "code",
      "source": [
        "img = x_train[1].reshape(28,28) #60000個のうちの１つ"
      ],
      "metadata": {
        "id": "IQkFYagcC5ss"
      },
      "execution_count": null,
      "outputs": []
    },
    {
      "cell_type": "code",
      "source": [
        "plt.imshow(img)\n",
        "plt.show()"
      ],
      "metadata": {
        "colab": {
          "base_uri": "https://localhost:8080/",
          "height": 265
        },
        "id": "0bs8zGN6CnUH",
        "outputId": "0c16ca0c-766b-4701-d20d-6db609c1af0f"
      },
      "execution_count": null,
      "outputs": [
        {
          "output_type": "display_data",
          "data": {
            "text/plain": [
              "<Figure size 432x288 with 1 Axes>"
            ],
            "image/png": "[encoded data removed]"
          },
          "metadata": {
            "needs_background": "light"
          }
        }
      ]
    },
    {
      "cell_type": "markdown",
      "source": [
        "### フリースペース"
      ],
      "metadata": {
        "id": "_krp3Mihd8rq"
      }
    },
    {
      "cell_type": "code",
      "source": [
        "a = np.arange(6).reshape((2,3))+15\n",
        "print(a)  \n",
        "b = np.array(0)\n",
        "print(np.argmax(a))\n",
        "print(b)"
      ],
      "metadata": {
        "colab": {
          "base_uri": "https://localhost:8080/"
        },
        "id": "k_M9uWOsd-0Z",
        "outputId": "ec5016b0-3d0d-4bf2-cddc-26bbee7c7122"
      },
      "execution_count": null,
      "outputs": [
        {
          "output_type": "stream",
          "name": "stdout",
          "text": [
            "[[15 16 17]\n",
            " [18 19 20]]\n",
            "5\n",
            "0\n"
          ]
        }
      ]
    },
    {
      "cell_type": "code",
      "source": [
        "np.random.choice(7,4,replace=False)  \n",
        "a = np.array([12,3,4])\n",
        "b = np.zeros_like(a)\n",
        "print(b)"
      ],
      "metadata": {
        "colab": {
          "base_uri": "https://localhost:8080/"
        },
        "id": "s1eZPVR1osDr",
        "outputId": "1ddf5bb6-7ff1-4b13-b132-37a583b884cc"
      },
      "execution_count": null,
      "outputs": [
        {
          "output_type": "stream",
          "name": "stdout",
          "text": [
            "[0 0 0]\n"
          ]
        }
      ]
    },
    {
      "cell_type": "code",
      "source": [
        "np.random.standard_normal((3))"
      ],
      "metadata": {
        "colab": {
          "base_uri": "https://localhost:8080/"
        },
        "id": "JwWV4WaBDeRz",
        "outputId": "fe2269cb-5f4f-47c8-fb82-b32d6197b43b"
      },
      "execution_count": null,
      "outputs": [
        {
          "output_type": "execute_result",
          "data": {
            "text/plain": [
              "array([ 0.24875263, -0.10005551,  0.08576151])"
            ]
          },
          "metadata": {},
          "execution_count": 214
        }
      ]
    },
    {
      "cell_type": "code",
      "source": [
        "np.random.standard_normal((100,10))"
      ],
      "metadata": {
        "id": "wFZ9WhTmQGGo"
      },
      "execution_count": null,
      "outputs": []
    },
    {
      "cell_type": "code",
      "source": [
        "import tensorflow as tf\n",
        "from tensorflow import keras\n",
        "\n",
        "print(tf.__version__)\n",
        "print(keras.__version__)"
      ],
      "metadata": {
        "colab": {
          "base_uri": "https://localhost:8080/"
        },
        "id": "2FOVpVPiVg_6",
        "outputId": "618f8eb9-c294-43e4-8855-bc16bcf66f9b"
      },
      "execution_count": 5,
      "outputs": [
        {
          "output_type": "stream",
          "name": "stdout",
          "text": [
            "2.8.2\n",
            "2.8.0\n"
          ]
        }
      ]
    }
  ]
}