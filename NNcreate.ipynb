{
  "nbformat": 4,
  "nbformat_minor": 0,
  "metadata": {
    "colab": {
      "name": "NNcreate.ipynb",
      "provenance": [],
      "collapsed_sections": [
        "QYkdjkJHMFeN"
      ],
      "authorship_tag": "ABX9TyNK6jsuyknVMHIZ77rDLk8N",
      "include_colab_link": true
    },
    "kernelspec": {
      "name": "python3",
      "display_name": "Python 3"
    },
    "language_info": {
      "name": "python"
    }
  },
  "cells": [
    {
      "cell_type": "markdown",
      "metadata": {
        "id": "view-in-github",
        "colab_type": "text"
      },
      "source": [
        "<a href=\"https://colab.research.google.com/github/nse-yu/colab-ML/blob/main/NNcreate.ipynb\" target=\"_parent\"><img src=\"https://colab.research.google.com/assets/colab-badge.svg\" alt=\"Open In Colab\"/></a>"
      ]
    },
    {
      "cell_type": "markdown",
      "source": [
        "# ニューラルネットワーク構築"
      ],
      "metadata": {
        "id": "PMZJ3Fo-JLeD"
      }
    },
    {
      "cell_type": "code",
      "source": [
        "import numpy as np"
      ],
      "metadata": {
        "id": "-I4HdGLlJdq5"
      },
      "execution_count": 3,
      "outputs": []
    },
    {
      "cell_type": "markdown",
      "source": [
        "#### Numpyの多次元配列を用いてニューラルネットワークを作る"
      ],
      "metadata": {
        "id": "A7ybLCVjJQ_s"
      }
    },
    {
      "cell_type": "markdown",
      "source": [
        "##### numpyの練習"
      ],
      "metadata": {
        "id": "QYkdjkJHMFeN"
      }
    },
    {
      "cell_type": "markdown",
      "source": [
        "> １次元配列を作る"
      ],
      "metadata": {
        "id": "Q4S1qtDkKFyA"
      }
    },
    {
      "cell_type": "code",
      "execution_count": null,
      "metadata": {
        "colab": {
          "base_uri": "https://localhost:8080/"
        },
        "id": "gzwyN_ZiJH3z",
        "outputId": "942612e9-ddca-4eab-98e6-ff630ab649cf"
      },
      "outputs": [
        {
          "output_type": "stream",
          "name": "stdout",
          "text": [
            "[1 2 3 4]\n",
            "1\n",
            "(4,)\n"
          ]
        }
      ],
      "source": [
        "A = np.array([1,2,3,4])\n",
        "print(A)\n",
        "print(np.ndim(A)) #配列の次元数を返す  \n",
        "print(A.shape)"
      ]
    },
    {
      "cell_type": "markdown",
      "source": [
        "> ２次元配列を作る"
      ],
      "metadata": {
        "id": "LKDGy8FVKIDi"
      }
    },
    {
      "cell_type": "code",
      "source": [
        "B = np.array([[1,2],[3,4],[5,6]])\n",
        "print(B)\n",
        "print(np.ndim(B))\n",
        "print(B.shape)"
      ],
      "metadata": {
        "colab": {
          "base_uri": "https://localhost:8080/"
        },
        "id": "iyXE8uuEKKYK",
        "outputId": "99f3b1d5-4af7-49df-cf81-30f4a6a175d9"
      },
      "execution_count": null,
      "outputs": [
        {
          "output_type": "stream",
          "name": "stdout",
          "text": [
            "[[1 2]\n",
            " [3 4]\n",
            " [5 6]]\n",
            "2\n",
            "(3, 2)\n"
          ]
        }
      ]
    },
    {
      "cell_type": "markdown",
      "source": [
        "> 内積（ドット積）を計算する  \n",
        "  \n",
        "<u>内積は行列A,Bについて、Aの列数＝Bの行数が成り立てば計算可能</u>"
      ],
      "metadata": {
        "id": "B11rxuLZKd94"
      }
    },
    {
      "cell_type": "code",
      "source": [
        "# 同じ形状\n",
        "A = np.array([[1,2],[3,4]])\n",
        "B = np.array([[5,6],[7,8]])  \n",
        "print(np.dot(A,B))"
      ],
      "metadata": {
        "colab": {
          "base_uri": "https://localhost:8080/"
        },
        "id": "tFzrqFtiKkf6",
        "outputId": "0c665bd7-bf6c-44c8-ae7d-4a684c07c07e"
      },
      "execution_count": null,
      "outputs": [
        {
          "output_type": "stream",
          "name": "stdout",
          "text": [
            "[[19 22]\n",
            " [43 50]]\n"
          ]
        }
      ]
    },
    {
      "cell_type": "code",
      "source": [
        "# 違う形状  \n",
        "A = np.array([[1,2,3],[4,5,6]])\n",
        "B = np.array([[1,2],[3,4],[5,6]])\n",
        "print(np.dot(A,B))"
      ],
      "metadata": {
        "colab": {
          "base_uri": "https://localhost:8080/"
        },
        "id": "KyTIJMOXK-Av",
        "outputId": "c3598810-7205-4c54-cf02-db8bbf3e38b6"
      },
      "execution_count": null,
      "outputs": [
        {
          "output_type": "stream",
          "name": "stdout",
          "text": [
            "[[22 28]\n",
            " [49 64]]\n"
          ]
        }
      ]
    },
    {
      "cell_type": "markdown",
      "source": [
        "##### いざ、実装"
      ],
      "metadata": {
        "id": "O9mzOIPuMNYf"
      }
    },
    {
      "cell_type": "markdown",
      "source": [
        "> ニューラルネットワーク前提  \n",
        "  \n",
        "今回は、バイアスと活性化関数を省略、重みだけがあるとする。"
      ],
      "metadata": {
        "id": "eU3OxrVuMS85"
      }
    },
    {
      "cell_type": "code",
      "source": [
        "X = np.array([1,2]) #1×2\n",
        "W = np.array([[1,3,5],[2,4,6]]) #2×3\n",
        "print(X.shape,W.shape)  \n",
        "\n",
        "#内積の計算\n",
        "Y = np.dot(X,W)\n",
        "print(Y)"
      ],
      "metadata": {
        "colab": {
          "base_uri": "https://localhost:8080/"
        },
        "id": "RCWZZsAgMQGA",
        "outputId": "f328c5d0-6cf1-4bb3-a62c-bde6f3b8deef"
      },
      "execution_count": null,
      "outputs": [
        {
          "output_type": "stream",
          "name": "stdout",
          "text": [
            "(2,) (2, 3)\n",
            "[ 5 11 17]\n"
          ]
        }
      ]
    },
    {
      "cell_type": "markdown",
      "source": [
        "入力層の２つのニューロンそれぞれの重みの行列をW,  \n",
        "入力層の入力をX,    \n",
        "各ニューロンへの入力にかけられるバイアスの行列をB,  \n",
        "\n",
        "隠れ層の３つのニューロンへの入力をAとすると、第一層のニューロンへの入力は、  \n",
        "***\n",
        "A = XW + B  \n",
        "***   \n",
        "と表すことができる。"
      ],
      "metadata": {
        "id": "qN_TXHaKOA4Z"
      }
    },
    {
      "cell_type": "code",
      "source": [
        "X = np.array([1.0,0.5])\n",
        "W1 = np.array([[0.1,0.3,0.5],[0.2,0.4,0.6]])\n",
        "B1 = np.array([0.1,0.2,0.3])  \n",
        "\n",
        "# 入力層の出力\n",
        "A1 = np.dot(X,W1) + B1  "
      ],
      "metadata": {
        "id": "XT__bTiNO60K"
      },
      "execution_count": 132,
      "outputs": []
    },
    {
      "cell_type": "markdown",
      "source": [
        "第一層への入力を、シグモイド関数で活性化させる。"
      ],
      "metadata": {
        "id": "uZ9e1VaNPsHo"
      }
    },
    {
      "cell_type": "code",
      "source": [
        "# シグモイド関数はこれだけでいい\n",
        "def sigmoid(x):\n",
        "  return 1/(1+np.exp(-x))    \n",
        "\n",
        "Z1 = sigmoid(A1)\n",
        "print(Z1) # 第一層の３つのニューロンそれぞれの活性化関数の出力"
      ],
      "metadata": {
        "colab": {
          "base_uri": "https://localhost:8080/"
        },
        "id": "yo14ebYYP1Qs",
        "outputId": "fa8868d9-1b9b-40c3-c64d-407841562d10"
      },
      "execution_count": 133,
      "outputs": [
        {
          "output_type": "stream",
          "name": "stdout",
          "text": [
            "[0.57444252 0.66818777 0.75026011]\n"
          ]
        }
      ]
    },
    {
      "cell_type": "markdown",
      "source": [
        "同様に、第一層から第二層への出力も実装"
      ],
      "metadata": {
        "id": "1_BCA0qAQcVV"
      }
    },
    {
      "cell_type": "code",
      "source": [
        "W2 = np.array([[0.1,0.4],[0.2,0.5],[0.3,0.6]])\n",
        "B2 = np.array([0.1,0.2])  \n",
        "\n",
        "# 第二層への出力  \n",
        "A2 = np.dot(Z1,W2) + B2  \n",
        "Z2 = sigmoid(A2)"
      ],
      "metadata": {
        "id": "C0eHhkBTQiKN"
      },
      "execution_count": null,
      "outputs": []
    },
    {
      "cell_type": "markdown",
      "source": [
        "最後に、第二層から出力層への出力を実装する  \n",
        "  \n",
        "ただし、出力層の活性化関数は、これまでの層とは異なる実装をする。  \n",
        "*** \n",
        "一般的に、ニューラルネットワークでは、解決する問題によって、出力層で用いる活性化関数が異なる。  \n",
        "分類問題では、一般的には「恒等関数」を、分類問題では「ソフトマックス関数」を用いる。\n"
      ],
      "metadata": {
        "id": "egNE7isaRHRl"
      }
    },
    {
      "cell_type": "code",
      "source": [
        "# ただ入力をそのまま流すだけの関数（恒等関数）\n",
        "def identity_function(x):\n",
        "  return x\n",
        "\n",
        "W3 = np.array([[0.1,0.3],[0.2,0.4]])\n",
        "B3 = np.array([0.1,0.2])\n",
        "\n",
        "A3 = np.dot(Z2,W3) + B3\n",
        "Y = identity_function(A3) # ここまでが一連の出力"
      ],
      "metadata": {
        "id": "2DrHqgvCRoZR"
      },
      "execution_count": null,
      "outputs": []
    },
    {
      "cell_type": "markdown",
      "source": [
        "> ここまでの実装をまとめる"
      ],
      "metadata": {
        "id": "91ZReyk3SlCD"
      }
    },
    {
      "cell_type": "code",
      "source": [
        "# ニューラルネットワークの各重み、バイアスを初期化する\n",
        "def init_network():\n",
        "  network = {}\n",
        "  network[\"W1\"] = np.array([[0.1,0.3,0.5],[0.2,0.4,0.6]])  \n",
        "  network[\"b1\"] = np.array([0.1,0.2,0.3])  \n",
        "  network[\"W2\"] = np.array([[0.1,0.4],[0.2,0.5],[0.3,0.6]])  \n",
        "  network[\"b2\"] = np.array([0.1,0.2])  \n",
        "  network[\"W3\"] = np.array([[0.1,0.3],[0.2,0.4]])  \n",
        "  network[\"b3\"] = np.array([0.1,0.2])  \n",
        "  return network\n",
        "\n",
        "# ネットワーク計算\n",
        "def forward(network,x):\n",
        "  W1,W2,W3 = network[\"W1\"],network[\"W2\"],network[\"W3\"]\n",
        "  b1,b2,b3 = network[\"b1\"],network[\"b2\"],network[\"b3\"]\n",
        "\n",
        "  a1 = np.dot(x,W1) + b1\n",
        "  z1 = sigmoid(a1)\n",
        "\n",
        "  a2 = np.dot(Z1,W2) + b2\n",
        "  z2 = sigmoid(a2)\n",
        "\n",
        "  a3 = np.dot(z2,W3) + b3\n",
        "  y = identity_function(a3)\n",
        "\n",
        "  return y  \n",
        "\n",
        "network = init_network()\n",
        "x = np.array([1.0,0.5])\n",
        "y = forward(network,x)\n",
        "print(y)"
      ],
      "metadata": {
        "colab": {
          "base_uri": "https://localhost:8080/"
        },
        "id": "mAC5dCYGSnMI",
        "outputId": "ff39af6c-c341-462d-e3da-d4d280888724"
      },
      "execution_count": null,
      "outputs": [
        {
          "output_type": "stream",
          "name": "stdout",
          "text": [
            "[0.31682708 0.69627909]\n"
          ]
        }
      ]
    },
    {
      "cell_type": "markdown",
      "source": [
        "### MNISTデータセットでニューラルネットワーク"
      ],
      "metadata": {
        "id": "29m3okh_fR7s"
      }
    },
    {
      "cell_type": "markdown",
      "source": [
        "手書き文字の分類をやってみよう。  \n",
        "用件：<u>ニューロン数</u>  \n",
        "* 入力層：28×28 = 784  \n",
        "* 出力層：10クラス分類（0～9）より、10とする  \n",
        "* 中間層：１つ目（50個）、２つ目（100個）"
      ],
      "metadata": {
        "id": "QQ5wpuUFfg2V"
      }
    },
    {
      "cell_type": "code",
      "source": [
        "from tensorflow.keras.datasets import mnist"
      ],
      "metadata": {
        "id": "okRXALHkgZds"
      },
      "execution_count": 70,
      "outputs": []
    },
    {
      "cell_type": "markdown",
      "source": [
        "### 損失関数"
      ],
      "metadata": {
        "id": "_Khm06-mwhgx"
      }
    },
    {
      "cell_type": "markdown",
      "source": [
        "> 損失関数"
      ],
      "metadata": {
        "id": "x4vCstDjwtgD"
      }
    },
    {
      "cell_type": "markdown",
      "source": [
        "１．平均二乗誤差    \n",
        "![img](https://assets.st-note.com/production/uploads/images/24199642/picture_pc_00fb7e2e324cd5ef0099cae0c3d775fb.png)  "
      ],
      "metadata": {
        "id": "S7hRlAQ0w70r"
      }
    },
    {
      "cell_type": "code",
      "source": [
        "def mean_squared_error(y,t):\n",
        "  return 0.5 * sum((y - t) **2)"
      ],
      "metadata": {
        "id": "uRMt3ZDswkG6"
      },
      "execution_count": 125,
      "outputs": []
    },
    {
      "cell_type": "markdown",
      "source": [
        "２．クロスエントロピー誤差  \n",
        "![img](https://assets.st-note.com/production/uploads/images/24201099/picture_pc_7105dc47dd021e875dfbd2407b0078fc.png)"
      ],
      "metadata": {
        "id": "dtHQaQ4lxa4l"
      }
    },
    {
      "cell_type": "code",
      "source": [
        "def cross_entropy_error(y,t):\n",
        "  if y.ndim == 1:\n",
        "    t = t.reshape(1,t.size)\n",
        "    y = y.reshape(1,y.size)\n",
        "    batch_size = y.shape[0]\n",
        "  return -np.sum(t * np.log(y)) / batch_size #-Infを防ぐ微小値delta  \n",
        "  #バッチまるごと受け取りつつ、バッチサイズ分の平均をとることで、実質１入力の誤差としている。"
      ],
      "metadata": {
        "id": "JnZaGnhZxfBc"
      },
      "execution_count": 126,
      "outputs": []
    },
    {
      "cell_type": "markdown",
      "source": [
        "２つの損失関数を動作比較"
      ],
      "metadata": {
        "id": "MzIGMSqYyAVt"
      }
    },
    {
      "cell_type": "code",
      "source": [
        "y = [0.1,0.05,0.6,0,0.05,0.3,0.1,0,0,0]\n",
        "t = [0,0,0,0,0.1,0.05,0.4,0.2,0.0,0]\n",
        "\n",
        "print(mean_squared_error(np.array(y),np.array(t)))\n",
        "cross_entropy_error(np.array(y),np.array(t))"
      ],
      "metadata": {
        "colab": {
          "base_uri": "https://localhost:8080/"
        },
        "id": "4xsJ8yHOyE7C",
        "outputId": "7d568d9f-77e0-4811-83ca-2bd8ba3a5a15"
      },
      "execution_count": null,
      "outputs": [
        {
          "output_type": "stream",
          "name": "stdout",
          "text": [
            "0.28375000000000006\n"
          ]
        },
        {
          "output_type": "execute_result",
          "data": {
            "text/plain": [
              "4.504424418294715"
            ]
          },
          "metadata": {},
          "execution_count": 36
        }
      ]
    },
    {
      "cell_type": "markdown",
      "source": [
        "３．ソフトマックス関数  \n",
        "![img](https://cdn-ak.f.st-hatena.com/images/fotolife/n/nok-0930-ss/20171203/20171203173559.png)"
      ],
      "metadata": {
        "id": "AHsovRuNLPKN"
      }
    },
    {
      "cell_type": "code",
      "source": [
        "def softmax(a):\n",
        "  c = np.max(a)\n",
        "  exp_a = np.exp(a - c) # overflow対策\n",
        "  sum_exp_a = np.sum(exp_a)\n",
        "  return exp_a / sum_exp_a"
      ],
      "metadata": {
        "id": "jHmvRenFKlRB"
      },
      "execution_count": 148,
      "outputs": []
    },
    {
      "cell_type": "markdown",
      "source": [
        "## 練習スペース"
      ],
      "metadata": {
        "id": "ULkH6NDt2xd6"
      }
    },
    {
      "cell_type": "markdown",
      "source": [
        "> 関数定義"
      ],
      "metadata": {
        "id": "Zi2o2st9CKgd"
      }
    },
    {
      "cell_type": "code",
      "source": [
        "def getReprocessData(normalize=False,flatten=True):\n",
        "  (x_train,t_train),(x_test,t_test) = mnist.load_data()\n",
        "  #基本的な情報\n",
        "  print(\"===========train data===========\") \n",
        "  print(\"img  :\",x_train.shape) #画像\n",
        "  print(\"label: \",t_train.shape) #対応するラベル\n",
        "  print(\"============test data===========\") \n",
        "  print(\"img  :\",x_test.shape) #画像\n",
        "  print(\"label:\",t_test.shape) #対応するラベル\n",
        "\n",
        "  if flatten == True:\n",
        "    print(\"--------------------------------\")\n",
        "    print(f\"processing..... -> fixed: {x_train.shape} ⇔ {x_train.reshape(60000,-1).shape}\")\n",
        "    x_train = x_train.reshape(60000,-1)\n",
        "    print(f\"processing..... -> fixed: {x_test.shape} ⇔ {x_test.reshape(10000,-1).shape}\")\n",
        "    x_test = x_test.reshape(10000,-1)\n",
        "\n",
        "  if normalize == True and flatten == True:\n",
        "    print(\"--------------------------------\")\n",
        "    x_train = x_train/255\n",
        "    x_test = x_test/255\n",
        "    print(f\"confirm: x_train maxElement = {x_train.max()}, x_test maxElement = {x_test.max()}\")\n",
        "    \n",
        "  print(\"------------FINISHED------------\")\n",
        "\n",
        "  return (x_train,t_train),(x_test,t_test)"
      ],
      "metadata": {
        "id": "GaJymtkw20lV"
      },
      "execution_count": 104,
      "outputs": []
    },
    {
      "cell_type": "code",
      "source": [
        "import pickle\n",
        "def init_network():\n",
        "  with open(\"sample_weight.pkl\",\"rb\") as f:\n",
        "    network = pickle.load(f)\n",
        "    return network"
      ],
      "metadata": {
        "id": "6vqbN-xEJkHt"
      },
      "execution_count": 118,
      "outputs": []
    },
    {
      "cell_type": "code",
      "source": [
        "def predict(network,x,log=True):\n",
        "  W1,W2,W3 = network[\"W1\"],network[\"W2\"],network[\"W3\"]\n",
        "  b1,b2,b3 = network[\"b1\"],network[\"b2\"],network[\"b3\"]\n",
        "  if log == True:\n",
        "    print(\"/===============START epoch===============/\")\n",
        "    print(f\"W1.shape={W1.shape}, W2.shape={W2.shape}, W3.shape={W3.shape}\")\n",
        "    print(f\"b1.shape={b1.shape}, b2.shape={b2.shape}, b3.shape={b3.shape}\")\n",
        "    print(f\"In ===> x.shape={x.shape}\")\n",
        "\n",
        "  a1 = np.dot(x,W1) + b1\n",
        "  z1 = sigmoid(a1)\n",
        "\n",
        "  a2 = np.dot(z1,W2) + b2\n",
        "  z2 = sigmoid(a2)\n",
        "\n",
        "  a3 = np.dot(z2,W3) + b3\n",
        "  y = softmax(a3)\n",
        "  if log == True:\n",
        "    print(f\"a2.shape={a2.shape}, z2.shape={z2.shape}\")\n",
        "    print(f\"a1.shape={a1.shape}, z1.shape={z1.shape}\")\n",
        "    print(f\"a3.shape={a3.shape}, y.shape={y.shape}\")\n",
        "\n",
        "    print(\"/=============END epoch==============/\")\n",
        "\n",
        "  return y  "
      ],
      "metadata": {
        "id": "FbgkDK3mKuA9"
      },
      "execution_count": 178,
      "outputs": []
    },
    {
      "cell_type": "markdown",
      "source": [
        "> 前処理後のデータを取得"
      ],
      "metadata": {
        "id": "VkPMpOrFCVUU"
      }
    },
    {
      "cell_type": "code",
      "source": [
        "(x_train,t_train),(x_test,t_test) = getReprocessData(normalize=True)\n",
        "print(x_train.shape)\n",
        "print(np.unique(t_train))"
      ],
      "metadata": {
        "id": "993wOQmzCRja"
      },
      "execution_count": null,
      "outputs": []
    },
    {
      "cell_type": "markdown",
      "source": [
        "> 初期ネットワークの取得"
      ],
      "metadata": {
        "id": "u8fvpKcnKI1T"
      }
    },
    {
      "cell_type": "code",
      "source": [
        "network = init_network() #重みの初期値が格納されている  \n",
        "print(network)"
      ],
      "metadata": {
        "id": "RV_ZN79YJ7VE"
      },
      "execution_count": null,
      "outputs": []
    },
    {
      "cell_type": "markdown",
      "source": [
        "> 予測の開始"
      ],
      "metadata": {
        "id": "mIDmpgnhKzv2"
      }
    },
    {
      "cell_type": "markdown",
      "source": [
        "<u>ベータ版</u>"
      ],
      "metadata": {
        "id": "5wFNIfP2LoxY"
      }
    },
    {
      "cell_type": "code",
      "source": [
        "accuracy_cnt = 0\n",
        "for i in range(len(x_test)):\n",
        "  y = predict(network,x_test[i])\n",
        "  p = np.argmax(y)\n",
        "  if p == t_test[i]:\n",
        "    accuracy_cnt += 1\n",
        "print(\"Accuracy:\",str(float(accuracy_cnt) / len(x_test)))"
      ],
      "metadata": {
        "id": "_foDVhm5LoYC"
      },
      "execution_count": null,
      "outputs": []
    },
    {
      "cell_type": "markdown",
      "source": [
        "<u>ミニバッチ学習版（こっちのほうが何倍も速い）</u>"
      ],
      "metadata": {
        "id": "RcpVhbL3MEXK"
      }
    },
    {
      "cell_type": "markdown",
      "source": [
        "y_batchのargmaxでaxis=1をしているところについて、  \n",
        "y_batchの出力は、各繰り返しにおいて、以下のような出力となっている。   \n",
        "\n",
        "<br> \n",
        "result_per_batch = [ [batch_data1], [batch_data2], [...] ]  \n",
        "※ベータ版では、このbatch_dataを１つ１つ処理していた。  \n",
        "※batch_dataにも複数の値が含まれており、その最大値を求める。  \n",
        "<br>\n",
        "このbatch_dataごとに最大値を出力し、以下のようにするのがaxis=1の役割である。\n",
        "\n",
        "result_perBatch_max = [ [max1], [max2], [...] ]"
      ],
      "metadata": {
        "id": "9RdeDgonlHF-"
      }
    },
    {
      "cell_type": "code",
      "source": [
        "batch_size = 100 #バッチ（入力データの１まとまり）\n",
        "accuracy_cnt = 0\n",
        "\n",
        "for i in range(0,len(x_test),batch_size): #テストデータ数\n",
        "  x_batch = x_test[i:i+batch_size]\n",
        "  y_batch = predict(network,x_batch,log=False)\n",
        "  p = np.argmax(y_batch,axis=1) #最大値をもつインデックスを抽出,axis=1により、１バッチの各結果ごとに最大値を取得\n",
        "  accuracy_cnt += np.sum(p == t_test[i:i+batch_size])\n",
        "print(\"Accuracy:\",str(float(accuracy_cnt) / len(x_test)))"
      ],
      "metadata": {
        "id": "hH6RoY3iK2gj"
      },
      "execution_count": null,
      "outputs": []
    },
    {
      "cell_type": "markdown",
      "source": [
        "> 画像表示"
      ],
      "metadata": {
        "id": "CcwVbTdBCgLZ"
      }
    },
    {
      "cell_type": "code",
      "source": [
        "import matplotlib.pyplot as plt"
      ],
      "metadata": {
        "id": "PBV0ngHvCiCE"
      },
      "execution_count": 83,
      "outputs": []
    },
    {
      "cell_type": "markdown",
      "source": [
        "> imgデータのみの抽出"
      ],
      "metadata": {
        "id": "ZAmpSALBC6D6"
      }
    },
    {
      "cell_type": "code",
      "source": [
        "img = x_train[1].reshape(28,28) #60000個のうちの１つ"
      ],
      "metadata": {
        "id": "IQkFYagcC5ss"
      },
      "execution_count": 111,
      "outputs": []
    },
    {
      "cell_type": "code",
      "source": [
        "plt.imshow(img)\n",
        "plt.show()"
      ],
      "metadata": {
        "colab": {
          "base_uri": "https://localhost:8080/",
          "height": 265
        },
        "id": "0bs8zGN6CnUH",
        "outputId": "0c16ca0c-766b-4701-d20d-6db609c1af0f"
      },
      "execution_count": 112,
      "outputs": [
        {
          "output_type": "display_data",
          "data": {
            "text/plain": [
              "<Figure size 432x288 with 1 Axes>"
            ],
            "image/png": "[encoded data removed]"
          },
          "metadata": {
            "needs_background": "light"
          }
        }
      ]
    },
    {
      "cell_type": "markdown",
      "source": [
        "#### フリースペース"
      ],
      "metadata": {
        "id": "_krp3Mihd8rq"
      }
    },
    {
      "cell_type": "code",
      "source": [
        "a = np.arange(6).reshape((2,3))+15\n",
        "print(a)  \n",
        "b = np.array(0)\n",
        "print(np.argmax(a))\n",
        "print(b)"
      ],
      "metadata": {
        "colab": {
          "base_uri": "https://localhost:8080/"
        },
        "id": "k_M9uWOsd-0Z",
        "outputId": "ec5016b0-3d0d-4bf2-cddc-26bbee7c7122"
      },
      "execution_count": 182,
      "outputs": [
        {
          "output_type": "stream",
          "name": "stdout",
          "text": [
            "[[15 16 17]\n",
            " [18 19 20]]\n",
            "5\n",
            "0\n"
          ]
        }
      ]
    },
    {
      "cell_type": "code",
      "source": [
        "np.random.choice(7,size=(1,2),replace=False)"
      ],
      "metadata": {
        "colab": {
          "base_uri": "https://localhost:8080/"
        },
        "id": "s1eZPVR1osDr",
        "outputId": "2c11b2c3-8ae3-4820-ac9c-6ca62e78c0f3"
      },
      "execution_count": 202,
      "outputs": [
        {
          "output_type": "execute_result",
          "data": {
            "text/plain": [
              "array([[3, 2]])"
            ]
          },
          "metadata": {},
          "execution_count": 202
        }
      ]
    }
  ]
}