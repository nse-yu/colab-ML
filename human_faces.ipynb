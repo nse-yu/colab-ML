{
  "nbformat": 4,
  "nbformat_minor": 0,
  "metadata": {
    "colab": {
      "name": "human_faces.ipynb",
      "provenance": [],
      "collapsed_sections": [],
      "mount_file_id": "12FkYCP65ifcOSIclpqZaNzDTKvbeo-5V",
      "authorship_tag": "ABX9TyOZDlgMQlHNxpgqgIolPx1Y",
      "include_colab_link": true
    },
    "kernelspec": {
      "name": "python3",
      "display_name": "Python 3"
    },
    "language_info": {
      "name": "python"
    }
  },
  "cells": [
    {
      "cell_type": "markdown",
      "metadata": {
        "id": "view-in-github",
        "colab_type": "text"
      },
      "source": [
        "<a href=\"https://colab.research.google.com/github/nse-yu/colab-ML/blob/main/human_faces.ipynb\" target=\"_parent\"><img src=\"https://colab.research.google.com/assets/colab-badge.svg\" alt=\"Open In Colab\"/></a>"
      ]
    },
    {
      "cell_type": "markdown",
      "source": [
        "## 人の顔識別"
      ],
      "metadata": {
        "id": "asVTvxkixLiq"
      }
    },
    {
      "cell_type": "markdown",
      "source": [
        "### データロード＆前処理編"
      ],
      "metadata": {
        "id": "PxIhGlnKPakI"
      }
    },
    {
      "cell_type": "markdown",
      "source": [
        "> 画像セットの読み込み"
      ],
      "metadata": {
        "id": "zhlrIyLJaMig"
      }
    },
    {
      "cell_type": "code",
      "source": [
        "!cp \"/content/drive/MyDrive/imgs_deep.zip\" ."
      ],
      "metadata": {
        "id": "PQjSBKhVZ3aE"
      },
      "execution_count": null,
      "outputs": []
    },
    {
      "cell_type": "code",
      "source": [
        "!unzip imgs_deep.zip"
      ],
      "metadata": {
        "id": "4uH-AfY3aEWR"
      },
      "execution_count": null,
      "outputs": []
    },
    {
      "cell_type": "markdown",
      "source": [
        "> 読み込み"
      ],
      "metadata": {
        "id": "9EpcwS8PaQMB"
      }
    },
    {
      "cell_type": "code",
      "source": [
        "import matplotlib.pyplot as plt\n",
        "import os\n",
        "import cv2\n",
        "import glob\n",
        "import numpy as np\n",
        "from PIL import Image"
      ],
      "metadata": {
        "id": "98of44InbV9Z"
      },
      "execution_count": null,
      "outputs": []
    },
    {
      "cell_type": "markdown",
      "source": [
        "> 画像読み込み関数"
      ],
      "metadata": {
        "id": "4C5mPikBvtum"
      }
    },
    {
      "cell_type": "code",
      "source": [
        "def imget(paths):\n",
        "  \"\"\"\n",
        "  画像のpathリストを指定し、その画像をリストで返す。\n",
        "  \"\"\"\n",
        "\n",
        "  #データセットを格納する変数\n",
        "  x_train = []\n",
        "  #リサイズ後のサイズ\n",
        "  IMG_RATE = 0.4\n",
        "\n",
        "  #個別のFilePathに対して処理していきます。\n",
        "  for p in paths:\n",
        "    pathEach = p\n",
        "    print(pathEach)\n",
        "\n",
        "    img_before = cv2.imread(pathEach)\n",
        "    if img_before is None:\n",
        "      continue\n",
        "    print(img_before.shape)\n",
        "    img_after = cv2.resize(img_before, dsize=(32,32))\n",
        "    img_after = cv2.cvtColor(img_after,cv2.COLOR_BGR2RGB)\n",
        "    img_after = img_after.astype(\"float64\") / 255\n",
        "\n",
        "    x_train.append(img_after)\n",
        "  return np.array(x_train)"
      ],
      "metadata": {
        "id": "-EEjV8yab070"
      },
      "execution_count": null,
      "outputs": []
    },
    {
      "cell_type": "markdown",
      "source": [
        "> 人の画像"
      ],
      "metadata": {
        "id": "VVAeMfIhvqNy"
      }
    },
    {
      "cell_type": "code",
      "source": [
        "os.chdir(\"/content/imgs_deep\") #階層をカレントからimgs_deepに移動\n",
        "paths = glob.glob(\"*\") #階層内のすべてのファイルパスを取得\n",
        "\n",
        "x_train_true = imget(paths)"
      ],
      "metadata": {
        "id": "5wM8hA7OaWmV"
      },
      "execution_count": null,
      "outputs": []
    },
    {
      "cell_type": "markdown",
      "source": [
        "> その他の画像"
      ],
      "metadata": {
        "id": "Hd2QJhdEy-zt"
      }
    },
    {
      "cell_type": "code",
      "source": [
        "def unpickle(file):\n",
        "    import pickle\n",
        "    with open(file, 'rb') as fo:\n",
        "        dict = pickle.load(fo, encoding='bytes')\n",
        "    return dict"
      ],
      "metadata": {
        "id": "OvMMQVgNzAtk"
      },
      "execution_count": null,
      "outputs": []
    },
    {
      "cell_type": "code",
      "source": [
        "data = unpickle(\"/content/data_batch_1\")"
      ],
      "metadata": {
        "id": "gU8EVT_9zM3o"
      },
      "execution_count": null,
      "outputs": []
    },
    {
      "cell_type": "code",
      "source": [
        "val_data = unpickle(\"/content/data_batch_2\")"
      ],
      "metadata": {
        "id": "_HPKlX8tA9oj"
      },
      "execution_count": null,
      "outputs": []
    },
    {
      "cell_type": "code",
      "source": [
        "def preFalse(data):\n",
        "  x_train_false = data[b\"data\"]\n",
        "  print(x_train_false.shape) #10000個の画像、3072のうち最初の1/3はred,次がgreen,最後がblue\n",
        "\n",
        "  #red\n",
        "  x_train_false_r = x_train_false[:,:1024].reshape(10000,32,32)\n",
        "\n",
        "  #green\n",
        "  x_train_false_g = x_train_false[:,1024:2048].reshape(10000,32,32)\n",
        "\n",
        "  #blue\n",
        "  x_train_false_b = x_train_false[:,2048:].reshape(10000,32,32)\n",
        "\n",
        "  #rgb化\n",
        "  x_train_false = np.array([x_train_false_r,x_train_false_g,x_train_false_b]).transpose((1,2,3,0)).astype(\"float64\") / 255\n",
        "  return x_train_false"
      ],
      "metadata": {
        "id": "uejYHsFq0wIS"
      },
      "execution_count": null,
      "outputs": []
    },
    {
      "cell_type": "markdown",
      "source": [
        "> 訓練、テストデータ取得"
      ],
      "metadata": {
        "id": "wdebDKVpB-yL"
      }
    },
    {
      "cell_type": "code",
      "source": [
        "x_train_false = preFalse(data)\n",
        "x_test_false = preFalse(val_data)"
      ],
      "metadata": {
        "colab": {
          "base_uri": "https://localhost:8080/"
        },
        "id": "EyArxLNPCCuQ",
        "outputId": "03da2659-dcdb-4cc2-81ad-372b6dddafa3"
      },
      "execution_count": null,
      "outputs": [
        {
          "output_type": "stream",
          "name": "stdout",
          "text": [
            "(10000, 3072)\n",
            "(10000, 3072)\n"
          ]
        }
      ]
    },
    {
      "cell_type": "markdown",
      "source": [
        "> 比較"
      ],
      "metadata": {
        "id": "Wqtn4170Az4F"
      }
    },
    {
      "cell_type": "code",
      "source": [
        "print(x_train_true.max())\n",
        "print(x_train_false.max())"
      ],
      "metadata": {
        "colab": {
          "base_uri": "https://localhost:8080/"
        },
        "id": "9vzWF2PPA05G",
        "outputId": "cf92dfff-3b17-4925-feb7-8d0c99247c06"
      },
      "execution_count": null,
      "outputs": [
        {
          "output_type": "stream",
          "name": "stdout",
          "text": [
            "1.0\n",
            "1.0\n"
          ]
        }
      ]
    },
    {
      "cell_type": "markdown",
      "source": [
        "> ラベルの付与"
      ],
      "metadata": {
        "id": "99EohmC-IKrU"
      }
    },
    {
      "cell_type": "code",
      "source": [
        "#trueラベル\n",
        "x_t = np.zeros(shape=(x_train_true.shape[0]))\n",
        "x_t[:] = True\n",
        "\n",
        "#falseラベル\n",
        "x_f = np.zeros(shape=(x_train_false.shape[0]))\n",
        "x_f[:] = False\n",
        "\n",
        "x_train = np.concatenate([x_train_true,x_train_false])\n",
        "t_train = np.concatenate([x_t,x_f])"
      ],
      "metadata": {
        "id": "TQWZNXb_INbH"
      },
      "execution_count": null,
      "outputs": []
    },
    {
      "cell_type": "markdown",
      "source": [
        "> 訓練データの結合"
      ],
      "metadata": {
        "id": "UruVcVVCJwH3"
      }
    },
    {
      "cell_type": "code",
      "source": [
        "r_idx = np.random.permutation(len(x_train)) #indexをランダムにすることで、データとラベルの対応を保持することができる\n",
        "\n",
        "#この２つが訓練用データとなる\n",
        "x_train = x_train[r_idx]\n",
        "t_train = t_train[r_idx]"
      ],
      "metadata": {
        "id": "g_CDEedoJyW0"
      },
      "execution_count": null,
      "outputs": []
    },
    {
      "cell_type": "markdown",
      "source": [
        "> 訓練、テストデータ分割"
      ],
      "metadata": {
        "id": "i2FwYsy-E2kD"
      }
    },
    {
      "cell_type": "code",
      "source": [
        "print(x_train.shape)"
      ],
      "metadata": {
        "colab": {
          "base_uri": "https://localhost:8080/"
        },
        "id": "DGkN_SpuE_KR",
        "outputId": "d200f17c-665f-409c-c7ac-56dc9fcd136e"
      },
      "execution_count": null,
      "outputs": [
        {
          "output_type": "stream",
          "name": "stdout",
          "text": [
            "(23233, 32, 32, 3)\n"
          ]
        }
      ]
    },
    {
      "cell_type": "code",
      "source": [
        ""
      ],
      "metadata": {
        "id": "7kj4d56OIyks"
      },
      "execution_count": null,
      "outputs": []
    },
    {
      "cell_type": "code",
      "source": [
        "#テスト用\n",
        "x_test = x_train[23200:]\n",
        "t_test = t_train[23200:]\n",
        "#訓練用\n",
        "x_train = x_train[:23200]\n",
        "t_train = t_train[:23200]\n"
      ],
      "metadata": {
        "id": "CY6f__-UE4mz"
      },
      "execution_count": null,
      "outputs": []
    },
    {
      "cell_type": "markdown",
      "source": [
        "### 学習編"
      ],
      "metadata": {
        "id": "DDmY5v8JPgSF"
      }
    },
    {
      "cell_type": "code",
      "source": [
        "from tensorflow import keras\n",
        "import numpy as np"
      ],
      "metadata": {
        "id": "sgsOqQkRPi3M"
      },
      "execution_count": null,
      "outputs": []
    },
    {
      "cell_type": "markdown",
      "source": [
        "> データ最終確認"
      ],
      "metadata": {
        "id": "zrFMnKlhdsZB"
      }
    },
    {
      "cell_type": "code",
      "source": [
        "print(x_train.shape)\n",
        "print(t_train.shape)"
      ],
      "metadata": {
        "colab": {
          "base_uri": "https://localhost:8080/"
        },
        "id": "xNR063AKdv5i",
        "outputId": "1eda0ecd-4b83-4278-a971-a77b562f9200"
      },
      "execution_count": null,
      "outputs": [
        {
          "output_type": "stream",
          "name": "stdout",
          "text": [
            "(23200, 32, 32, 3)\n",
            "(23200,)\n"
          ]
        }
      ]
    },
    {
      "cell_type": "markdown",
      "source": [
        "> モデルひな形作成"
      ],
      "metadata": {
        "id": "MOAE8ebBPwKi"
      }
    },
    {
      "cell_type": "code",
      "source": [
        "#層\n",
        "#input_ = keras.layers.Input(shape=(np.prod(x_train.shape[1:]),)) flatten版\n",
        "input_ = keras.layers.Input(shape=(x_train.shape[1:]),)\n",
        "\n",
        "cv1 = keras.layers.Conv2D(filters=3,kernel_size=3)(input_)\n",
        "drop1 = keras.layers.Dropout(0.25)(cv1)\n",
        "\n",
        "cv2 = keras.layers.Conv2D(filters=1,kernel_size=2)(drop1)\n",
        "drop2 = keras.layers.Dropout(0.25)(cv2)\n",
        "\n",
        "flatten = keras.layers.Flatten()(drop2)\n",
        "\n",
        "output = keras.layers.Dense(units=1,activation=\"relu\")(flatten)\n",
        "\n",
        "#モデル\n",
        "model = keras.models.Model(inputs=input_,outputs=[output])"
      ],
      "metadata": {
        "id": "tyyAR2jhPvaQ"
      },
      "execution_count": null,
      "outputs": []
    },
    {
      "cell_type": "markdown",
      "source": [
        "> モデル詳細"
      ],
      "metadata": {
        "id": "UG3RuS9HfT47"
      }
    },
    {
      "cell_type": "code",
      "source": [
        "model.summary()"
      ],
      "metadata": {
        "colab": {
          "base_uri": "https://localhost:8080/"
        },
        "id": "hg2RtDdkfVsR",
        "outputId": "b21eb932-faec-4df5-fa9d-3a374e4f62fa"
      },
      "execution_count": null,
      "outputs": [
        {
          "output_type": "stream",
          "name": "stdout",
          "text": [
            "Model: \"model_23\"\n",
            "_________________________________________________________________\n",
            " Layer (type)                Output Shape              Param #   \n",
            "=================================================================\n",
            " input_27 (InputLayer)       [(None, 32, 32, 3)]       0         \n",
            "                                                                 \n",
            " conv2d_22 (Conv2D)          (None, 29, 29, 5)         245       \n",
            "                                                                 \n",
            " conv2d_23 (Conv2D)          (None, 27, 27, 2)         92        \n",
            "                                                                 \n",
            " conv2d_24 (Conv2D)          (None, 26, 26, 1)         9         \n",
            "                                                                 \n",
            " flatten_19 (Flatten)        (None, 676)               0         \n",
            "                                                                 \n",
            " dense_56 (Dense)            (None, 1)                 677       \n",
            "                                                                 \n",
            "=================================================================\n",
            "Total params: 1,023\n",
            "Trainable params: 1,023\n",
            "Non-trainable params: 0\n",
            "_________________________________________________________________\n"
          ]
        }
      ]
    },
    {
      "cell_type": "markdown",
      "source": [
        "> モデルのコンパイル"
      ],
      "metadata": {
        "id": "9r_sk_ixfbte"
      }
    },
    {
      "cell_type": "code",
      "source": [
        "model.compile(\n",
        "    loss=keras.losses.BinaryCrossentropy(),\n",
        "    optimizer=keras.optimizers.Adam(learning_rate=0.001),\n",
        "    metrics=[\"accuracy\"]\n",
        "    )"
      ],
      "metadata": {
        "id": "SZm2KJfffdR7"
      },
      "execution_count": null,
      "outputs": []
    },
    {
      "cell_type": "markdown",
      "source": [
        "> 訓練"
      ],
      "metadata": {
        "id": "4XBTvSlpgI9A"
      }
    },
    {
      "cell_type": "code",
      "source": [
        "#任意\n",
        "\"\"\"\n",
        "x_train = x_train.flatten().reshape(x_train.shape[0],-1)\n",
        "print(x_train.shape)\n",
        "print(t_train.shape)\n",
        "\"\"\""
      ],
      "metadata": {
        "colab": {
          "base_uri": "https://localhost:8080/"
        },
        "id": "FXXE3yKTj-LC",
        "outputId": "e823f479-7cc2-4077-ad71-eb4a434e1854"
      },
      "execution_count": null,
      "outputs": [
        {
          "output_type": "stream",
          "name": "stdout",
          "text": [
            "(23233, 3072)\n",
            "(23233,)\n"
          ]
        }
      ]
    },
    {
      "cell_type": "code",
      "source": [
        "history = model.fit(x_train,t_train,epochs=20,validation_split=0.2)"
      ],
      "metadata": {
        "colab": {
          "base_uri": "https://localhost:8080/"
        },
        "id": "koVRzhIlgKKA",
        "outputId": "c218f072-847a-481a-c901-0cbd57bd468d"
      },
      "execution_count": null,
      "outputs": [
        {
          "output_type": "stream",
          "name": "stdout",
          "text": [
            "Epoch 1/20\n",
            "580/580 [==============================] - 11s 18ms/step - loss: 1.6924 - accuracy: 0.6426 - val_loss: 0.4768 - val_accuracy: 0.8159\n",
            "Epoch 2/20\n",
            "580/580 [==============================] - 10s 18ms/step - loss: 0.7192 - accuracy: 0.8067 - val_loss: 0.2641 - val_accuracy: 0.9272\n",
            "Epoch 3/20\n",
            "580/580 [==============================] - 10s 18ms/step - loss: 0.3107 - accuracy: 0.9093 - val_loss: 0.1863 - val_accuracy: 0.9504\n",
            "Epoch 4/20\n",
            "580/580 [==============================] - 11s 18ms/step - loss: 0.2618 - accuracy: 0.9241 - val_loss: 0.1977 - val_accuracy: 0.9506\n",
            "Epoch 5/20\n",
            "580/580 [==============================] - 10s 18ms/step - loss: 0.3281 - accuracy: 0.9180 - val_loss: 0.1875 - val_accuracy: 0.9453\n",
            "Epoch 6/20\n",
            "580/580 [==============================] - 10s 18ms/step - loss: 0.2088 - accuracy: 0.9392 - val_loss: 0.1384 - val_accuracy: 0.9616\n",
            "Epoch 7/20\n",
            "580/580 [==============================] - 10s 18ms/step - loss: 0.1766 - accuracy: 0.9515 - val_loss: 0.1260 - val_accuracy: 0.9655\n",
            "Epoch 8/20\n",
            "580/580 [==============================] - 10s 18ms/step - loss: 0.2675 - accuracy: 0.9298 - val_loss: 4.1340 - val_accuracy: 0.5228\n",
            "Epoch 9/20\n",
            "580/580 [==============================] - 10s 18ms/step - loss: 0.3028 - accuracy: 0.9316 - val_loss: 0.1140 - val_accuracy: 0.9681\n",
            "Epoch 10/20\n",
            "580/580 [==============================] - 12s 21ms/step - loss: 0.1451 - accuracy: 0.9595 - val_loss: 0.0888 - val_accuracy: 0.9737\n",
            "Epoch 11/20\n",
            "580/580 [==============================] - 10s 18ms/step - loss: 0.1585 - accuracy: 0.9588 - val_loss: 0.0853 - val_accuracy: 0.9744\n",
            "Epoch 12/20\n",
            "580/580 [==============================] - 10s 18ms/step - loss: 0.1233 - accuracy: 0.9671 - val_loss: 0.0808 - val_accuracy: 0.9776\n",
            "Epoch 13/20\n",
            "580/580 [==============================] - 11s 18ms/step - loss: 0.2354 - accuracy: 0.9555 - val_loss: 0.2260 - val_accuracy: 0.9422\n",
            "Epoch 14/20\n",
            "580/580 [==============================] - 10s 18ms/step - loss: 0.1992 - accuracy: 0.9483 - val_loss: 0.0772 - val_accuracy: 0.9772\n",
            "Epoch 15/20\n",
            "580/580 [==============================] - 10s 18ms/step - loss: 0.1067 - accuracy: 0.9708 - val_loss: 0.0741 - val_accuracy: 0.9810\n",
            "Epoch 16/20\n",
            "580/580 [==============================] - 10s 18ms/step - loss: 0.1322 - accuracy: 0.9605 - val_loss: 0.0810 - val_accuracy: 0.9754\n",
            "Epoch 17/20\n",
            "580/580 [==============================] - 10s 18ms/step - loss: 0.0976 - accuracy: 0.9716 - val_loss: 0.0564 - val_accuracy: 0.9804\n",
            "Epoch 18/20\n",
            "580/580 [==============================] - 10s 18ms/step - loss: 0.3406 - accuracy: 0.9448 - val_loss: 0.2036 - val_accuracy: 0.9407\n",
            "Epoch 19/20\n",
            "580/580 [==============================] - 10s 18ms/step - loss: 0.3310 - accuracy: 0.9096 - val_loss: 0.1048 - val_accuracy: 0.9692\n",
            "Epoch 20/20\n",
            "580/580 [==============================] - 10s 18ms/step - loss: 0.1675 - accuracy: 0.9502 - val_loss: 0.1078 - val_accuracy: 0.9750\n"
          ]
        }
      ]
    },
    {
      "cell_type": "code",
      "source": [
        "model.save(\"/content/drive/MyDrive/data/face_indentify_ver1\")"
      ],
      "metadata": {
        "colab": {
          "base_uri": "https://localhost:8080/"
        },
        "id": "3GIoj9BP__xk",
        "outputId": "d3d6f0bc-e6b6-4853-bc17-9ade45e67f8a"
      },
      "execution_count": null,
      "outputs": [
        {
          "output_type": "stream",
          "name": "stdout",
          "text": [
            "INFO:tensorflow:Assets written to: /content/drive/MyDrive/data/face_indentify_ver1/assets\n"
          ]
        }
      ]
    },
    {
      "cell_type": "markdown",
      "source": [
        "### 検証編"
      ],
      "metadata": {
        "id": "jnsz9PXUCet8"
      }
    },
    {
      "cell_type": "markdown",
      "source": [
        "> ランダム画像の確認"
      ],
      "metadata": {
        "id": "Y42iOpKeL3-m"
      }
    },
    {
      "cell_type": "code",
      "source": [
        "for entry in x_test[:5]:\n",
        "  plt.imshow(entry)\n",
        "  plt.show()"
      ],
      "metadata": {
        "id": "37p37WsaLv56",
        "colab": {
          "base_uri": "https://localhost:8080/",
          "height": 1000
        },
        "outputId": "08b7441e-ff8d-4416-aeb0-816f944acdeb"
      },
      "execution_count": null,
      "outputs": [
        {
          "output_type": "display_data",
          "data": {
            "text/plain": [
              "<Figure size 432x288 with 1 Axes>"
            ],
            "image/png": "[encoded data removed]"
          },
          "metadata": {
            "needs_background": "light"
          }
        },
        {
          "output_type": "display_data",
          "data": {
            "text/plain": [
              "<Figure size 432x288 with 1 Axes>"
            ],
            "image/png": "[encoded data removed]"
          },
          "metadata": {
            "needs_background": "light"
          }
        },
        {
          "output_type": "display_data",
          "data": {
            "text/plain": [
              "<Figure size 432x288 with 1 Axes>"
            ],
            "image/png": "[encoded data removed]"
          },
          "metadata": {
            "needs_background": "light"
          }
        },
        {
          "output_type": "display_data",
          "data": {
            "text/plain": [
              "<Figure size 432x288 with 1 Axes>"
            ],
            "image/png": "[encoded data removed]"
          },
          "metadata": {
            "needs_background": "light"
          }
        },
        {
          "output_type": "display_data",
          "data": {
            "text/plain": [
              "<Figure size 432x288 with 1 Axes>"
            ],
            "image/png": "[encoded data removed]"
          },
          "metadata": {
            "needs_background": "light"
          }
        }
      ]
    },
    {
      "cell_type": "code",
      "source": [
        "model.evaluate(x_test,t_test)"
      ],
      "metadata": {
        "colab": {
          "base_uri": "https://localhost:8080/"
        },
        "id": "3Y0_GssFPzxj",
        "outputId": "57f47c88-9242-4370-b039-de1f43098d6b"
      },
      "execution_count": null,
      "outputs": [
        {
          "output_type": "stream",
          "name": "stdout",
          "text": [
            "2/2 [==============================] - 0s 7ms/step - loss: 0.0319 - accuracy: 1.0000\n"
          ]
        },
        {
          "output_type": "execute_result",
          "data": {
            "text/plain": [
              "[0.03188124671578407, 1.0]"
            ]
          },
          "metadata": {},
          "execution_count": 309
        }
      ]
    },
    {
      "cell_type": "markdown",
      "source": [
        "> 予測関数（0か1にするだけ）"
      ],
      "metadata": {
        "id": "R8KVPHLHTPgw"
      }
    },
    {
      "cell_type": "code",
      "source": [
        "def my_predict(data):\n",
        "  ans = model.predict(data)\n",
        "  ans = np.round(ans).astype(int)\n",
        "  return np.where(ans >= 2,1,ans)"
      ],
      "metadata": {
        "id": "BBIJOOTnTTQ0"
      },
      "execution_count": null,
      "outputs": []
    },
    {
      "cell_type": "markdown",
      "source": [
        "> テストデータで予測"
      ],
      "metadata": {
        "id": "wapTuY85Tm5Z"
      }
    },
    {
      "cell_type": "code",
      "source": [
        "pred_result = my_predict(x_test[:30])\n",
        "print(pred_result)\n",
        "print(t_test[:30])"
      ],
      "metadata": {
        "colab": {
          "base_uri": "https://localhost:8080/"
        },
        "id": "5e_3JawsDkHq",
        "outputId": "e4d341ca-af13-4070-dc46-62aebdc829f3"
      },
      "execution_count": null,
      "outputs": [
        {
          "output_type": "stream",
          "name": "stdout",
          "text": [
            "[[1]\n",
            " [0]\n",
            " [0]\n",
            " [1]\n",
            " [1]\n",
            " [1]\n",
            " [0]\n",
            " [0]\n",
            " [0]\n",
            " [1]\n",
            " [1]\n",
            " [1]\n",
            " [1]\n",
            " [0]\n",
            " [1]\n",
            " [0]\n",
            " [1]\n",
            " [0]\n",
            " [0]\n",
            " [1]\n",
            " [1]\n",
            " [1]\n",
            " [1]\n",
            " [1]\n",
            " [1]\n",
            " [1]\n",
            " [1]\n",
            " [1]\n",
            " [0]\n",
            " [1]]\n",
            "[1. 0. 0. 1. 1. 1. 0. 0. 0. 1. 1. 1. 1. 0. 1. 0. 1. 0. 0. 1. 1. 1. 1. 1.\n",
            " 1. 1. 1. 1. 0. 1.]\n"
          ]
        }
      ]
    },
    {
      "cell_type": "markdown",
      "source": [
        "> 別のデータで予測"
      ],
      "metadata": {
        "id": "ENZHivvzRMDO"
      }
    },
    {
      "cell_type": "code",
      "source": [
        "lena = imget([\"/content/lena.png\"])"
      ],
      "metadata": {
        "colab": {
          "base_uri": "https://localhost:8080/"
        },
        "id": "TLmmgIi8ROZy",
        "outputId": "76379a97-d56c-4688-82f3-ceb9f2f46c2d"
      },
      "execution_count": null,
      "outputs": [
        {
          "output_type": "stream",
          "name": "stdout",
          "text": [
            "/content/lena.png\n",
            "(256, 256, 3)\n"
          ]
        }
      ]
    },
    {
      "cell_type": "code",
      "source": [
        "plt.imshow(lena[0])\n",
        "plt.show()"
      ],
      "metadata": {
        "colab": {
          "base_uri": "https://localhost:8080/",
          "height": 266
        },
        "id": "3t_sPo6ORrWK",
        "outputId": "30504d88-1c6c-4ca2-f787-7b93ce473e88"
      },
      "execution_count": null,
      "outputs": [
        {
          "output_type": "display_data",
          "data": {
            "text/plain": [
              "<Figure size 432x288 with 1 Axes>"
            ],
            "image/png": "[encoded data removed]"
          },
          "metadata": {
            "needs_background": "light"
          }
        }
      ]
    },
    {
      "cell_type": "code",
      "source": [
        "my_predict(lena)"
      ],
      "metadata": {
        "colab": {
          "base_uri": "https://localhost:8080/"
        },
        "id": "3Jsif-x5R01b",
        "outputId": "55daf359-96c2-4b18-ee4f-ef39d4b618eb"
      },
      "execution_count": null,
      "outputs": [
        {
          "output_type": "execute_result",
          "data": {
            "text/plain": [
              "array([[1]])"
            ]
          },
          "metadata": {},
          "execution_count": 332
        }
      ]
    },
    {
      "cell_type": "code",
      "source": [
        "hum = imget([\"/content/hum.jpg\"])"
      ],
      "metadata": {
        "colab": {
          "base_uri": "https://localhost:8080/"
        },
        "id": "X-oAzK3kSa0c",
        "outputId": "7144a430-b336-4a11-cf76-7bafd0e529eb"
      },
      "execution_count": null,
      "outputs": [
        {
          "output_type": "stream",
          "name": "stdout",
          "text": [
            "/content/hum.jpg\n",
            "(973, 1024, 3)\n"
          ]
        }
      ]
    },
    {
      "cell_type": "code",
      "source": [
        "my_predict(hum)"
      ],
      "metadata": {
        "colab": {
          "base_uri": "https://localhost:8080/"
        },
        "outputId": "b7db15ee-c756-4dd2-ecef-2adfcde0f9e4",
        "id": "7B-0wVO9S03t"
      },
      "execution_count": null,
      "outputs": [
        {
          "output_type": "execute_result",
          "data": {
            "text/plain": [
              "array([[0]])"
            ]
          },
          "metadata": {},
          "execution_count": 333
        }
      ]
    }
  ]
}