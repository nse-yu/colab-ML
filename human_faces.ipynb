{
  "nbformat": 4,
  "nbformat_minor": 0,
  "metadata": {
    "colab": {
      "name": "human_faces.ipynb",
      "provenance": [],
      "collapsed_sections": [
        "PxIhGlnKPakI"
      ],
      "mount_file_id": "12FkYCP65ifcOSIclpqZaNzDTKvbeo-5V",
      "authorship_tag": "ABX9TyOr0NMP9M+mh01+iOs+0Zh+",
      "include_colab_link": true
    },
    "kernelspec": {
      "name": "python3",
      "display_name": "Python 3"
    },
    "language_info": {
      "name": "python"
    }
  },
  "cells": [
    {
      "cell_type": "markdown",
      "metadata": {
        "id": "view-in-github",
        "colab_type": "text"
      },
      "source": [
        "<a href=\"https://colab.research.google.com/github/nse-yu/colab-ML/blob/main/human_faces.ipynb\" target=\"_parent\"><img src=\"https://colab.research.google.com/assets/colab-badge.svg\" alt=\"Open In Colab\"/></a>"
      ]
    },
    {
      "cell_type": "markdown",
      "source": [
        "## 人の顔識別"
      ],
      "metadata": {
        "id": "asVTvxkixLiq"
      }
    },
    {
      "cell_type": "markdown",
      "source": [
        "### データロード＆前処理編"
      ],
      "metadata": {
        "id": "PxIhGlnKPakI"
      }
    },
    {
      "cell_type": "markdown",
      "source": [
        "> 画像セットの読み込み"
      ],
      "metadata": {
        "id": "zhlrIyLJaMig"
      }
    },
    {
      "cell_type": "code",
      "source": [
        "!cp \"/content/drive/MyDrive/imgs_deep.zip\" ."
      ],
      "metadata": {
        "id": "PQjSBKhVZ3aE"
      },
      "execution_count": 2,
      "outputs": []
    },
    {
      "cell_type": "code",
      "source": [
        "!unzip imgs_deep.zip"
      ],
      "metadata": {
        "colab": {
          "base_uri": "https://localhost:8080/"
        },
        "id": "4uH-AfY3aEWR",
        "outputId": "20cf0ce0-6eea-454d-f0fc-24391e21641a"
      },
      "execution_count": 3,
      "outputs": [
        {
          "output_type": "stream",
          "name": "stdout",
          "text": [
            "Archive:  imgs_deep.zip\n",
            "replace imgs_deep/Aaron_Eckhart_0001.jpg? [y]es, [n]o, [A]ll, [N]one, [r]ename: "
          ]
        }
      ]
    },
    {
      "cell_type": "markdown",
      "source": [
        "> 読み込み"
      ],
      "metadata": {
        "id": "9EpcwS8PaQMB"
      }
    },
    {
      "cell_type": "code",
      "source": [
        "import matplotlib.pyplot as plt\n",
        "import os\n",
        "import cv2\n",
        "import glob\n",
        "import numpy as np\n",
        "from PIL import Image"
      ],
      "metadata": {
        "id": "98of44InbV9Z"
      },
      "execution_count": 4,
      "outputs": []
    },
    {
      "cell_type": "markdown",
      "source": [
        "> 画像読み込み関数"
      ],
      "metadata": {
        "id": "4C5mPikBvtum"
      }
    },
    {
      "cell_type": "code",
      "source": [
        "def imget(paths):\n",
        "  \"\"\"\n",
        "  画像のpathリストを指定し、その画像をリストで返す。\n",
        "  \"\"\"\n",
        "\n",
        "  #データセットを格納する変数\n",
        "  x_train = []\n",
        "  #リサイズ後のサイズ\n",
        "  IMG_RATE = 0.4\n",
        "\n",
        "  #個別のFilePathに対して処理していきます。\n",
        "  for p in paths:\n",
        "    pathEach = p\n",
        "    print(pathEach)\n",
        "\n",
        "    img_before = cv2.imread(pathEach)\n",
        "    print(img_before.shape)\n",
        "    img_after = cv2.resize(img_before, dsize=(32,32))\n",
        "    img_after = cv2.cvtColor(img_after,cv2.COLOR_BGR2RGB)\n",
        "    img_after = img_after.astype(\"float64\") / 255\n",
        "\n",
        "    x_train.append(img_after)\n",
        "  return np.array(x_train)"
      ],
      "metadata": {
        "id": "-EEjV8yab070"
      },
      "execution_count": 55,
      "outputs": []
    },
    {
      "cell_type": "markdown",
      "source": [
        "> 人の画像"
      ],
      "metadata": {
        "id": "VVAeMfIhvqNy"
      }
    },
    {
      "cell_type": "code",
      "source": [
        "os.chdir(\"/content/imgs_deep\") #階層をカレントからimgs_deepに移動\n",
        "paths = glob.glob(\"*\") #階層内のすべてのファイルパスを取得\n",
        "\n",
        "x_train_true = imget(paths)"
      ],
      "metadata": {
        "id": "5wM8hA7OaWmV"
      },
      "execution_count": null,
      "outputs": []
    },
    {
      "cell_type": "markdown",
      "source": [
        "> その他の画像"
      ],
      "metadata": {
        "id": "Hd2QJhdEy-zt"
      }
    },
    {
      "cell_type": "code",
      "source": [
        "def unpickle(file):\n",
        "    import pickle\n",
        "    with open(file, 'rb') as fo:\n",
        "        dict = pickle.load(fo, encoding='bytes')\n",
        "    return dict"
      ],
      "metadata": {
        "id": "OvMMQVgNzAtk"
      },
      "execution_count": 6,
      "outputs": []
    },
    {
      "cell_type": "code",
      "source": [
        "data = unpickle(\"/content/data_batch_1\")"
      ],
      "metadata": {
        "id": "gU8EVT_9zM3o"
      },
      "execution_count": 7,
      "outputs": []
    },
    {
      "cell_type": "code",
      "source": [
        "x_train_false = data[b\"data\"]\n",
        "print(x_train_false.shape) #10000個の画像、3072のうち最初の1/3はred,次がgreen,最後がblue\n",
        "\n",
        "#red\n",
        "x_train_false_r = x_train_false[:,:1024].reshape(10000,32,32)\n",
        "\n",
        "#green\n",
        "x_train_false_g = x_train_false[:,1024:2048].reshape(10000,32,32)\n",
        "\n",
        "#blue\n",
        "x_train_false_b = x_train_false[:,2048:].reshape(10000,32,32)\n",
        "\n",
        "#rgb化\n",
        "x_train_false = np.array([x_train_false_r,x_train_false_g,x_train_false_b]).transpose((1,2,3,0)).astype(\"float64\") / 255"
      ],
      "metadata": {
        "colab": {
          "base_uri": "https://localhost:8080/"
        },
        "id": "uejYHsFq0wIS",
        "outputId": "e5109ca1-143e-450f-f7fc-bc6e9377e7c6"
      },
      "execution_count": 62,
      "outputs": [
        {
          "output_type": "stream",
          "name": "stdout",
          "text": [
            "(10000, 3072)\n"
          ]
        }
      ]
    },
    {
      "cell_type": "markdown",
      "source": [
        "> 比較"
      ],
      "metadata": {
        "id": "Wqtn4170Az4F"
      }
    },
    {
      "cell_type": "code",
      "source": [
        "print(x_train_true.max())\n",
        "print(x_train_false.max())"
      ],
      "metadata": {
        "colab": {
          "base_uri": "https://localhost:8080/"
        },
        "id": "9vzWF2PPA05G",
        "outputId": "6f5fc3ca-d368-4ed7-8e3b-149d339ef231"
      },
      "execution_count": 63,
      "outputs": [
        {
          "output_type": "stream",
          "name": "stdout",
          "text": [
            "1.0\n",
            "1.0\n"
          ]
        }
      ]
    },
    {
      "cell_type": "markdown",
      "source": [
        "> ラベルの付与"
      ],
      "metadata": {
        "id": "99EohmC-IKrU"
      }
    },
    {
      "cell_type": "code",
      "source": [
        "#trueラベル\n",
        "x_t = np.zeros(shape=(x_train_true.shape[0]))\n",
        "x_t[:] = True\n",
        "\n",
        "#falseラベル\n",
        "x_f = np.zeros(shape=(x_train_false.shape[0]))\n",
        "x_f[:] = False\n",
        "\n",
        "x_train = np.concatenate([x_train_true,x_train_false])\n",
        "t_train = np.concatenate([x_t,x_f])"
      ],
      "metadata": {
        "id": "TQWZNXb_INbH"
      },
      "execution_count": 87,
      "outputs": []
    },
    {
      "cell_type": "markdown",
      "source": [
        "> 訓練データの結合"
      ],
      "metadata": {
        "id": "UruVcVVCJwH3"
      }
    },
    {
      "cell_type": "code",
      "source": [
        "r_idx = np.random.permutation(len(x_train)) #indexをランダムにすることで、データとラベルの対応を保持することができる\n",
        "\n",
        "#この２つが訓練用データとなる\n",
        "x_train = x_train[r_idx]\n",
        "t_train = t_train[r_idx]"
      ],
      "metadata": {
        "id": "g_CDEedoJyW0"
      },
      "execution_count": 88,
      "outputs": []
    },
    {
      "cell_type": "markdown",
      "source": [
        "> ランダム画像の確認"
      ],
      "metadata": {
        "id": "Y42iOpKeL3-m"
      }
    },
    {
      "cell_type": "code",
      "source": [
        "for entry in x_train[:4]:\n",
        "  plt.imshow(entry)\n",
        "  plt.show()\n",
        "print(t_train[:4])"
      ],
      "metadata": {
        "id": "37p37WsaLv56"
      },
      "execution_count": null,
      "outputs": []
    },
    {
      "cell_type": "markdown",
      "source": [
        "### 学習編"
      ],
      "metadata": {
        "id": "DDmY5v8JPgSF"
      }
    },
    {
      "cell_type": "code",
      "source": [
        "from tensorflow import keras\n",
        "import numpy as np"
      ],
      "metadata": {
        "id": "sgsOqQkRPi3M"
      },
      "execution_count": 91,
      "outputs": []
    },
    {
      "cell_type": "markdown",
      "source": [
        "> モデルひな形作成"
      ],
      "metadata": {
        "id": "MOAE8ebBPwKi"
      }
    },
    {
      "cell_type": "code",
      "source": [
        "model = keras.layers.Input(shape=())"
      ],
      "metadata": {
        "id": "tyyAR2jhPvaQ"
      },
      "execution_count": null,
      "outputs": []
    }
  ]
}