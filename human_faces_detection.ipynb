{
  "nbformat": 4,
  "nbformat_minor": 0,
  "metadata": {
    "colab": {
      "name": "human-faces-detection.ipynb",
      "provenance": [],
      "collapsed_sections": [],
      "mount_file_id": "1l6PPIoG0JBomhKe_-0b7NGLCQgeNPeTN",
      "authorship_tag": "ABX9TyNnNJEiGWIVmoE2TuM3PlN/",
      "include_colab_link": true
    },
    "kernelspec": {
      "name": "python3",
      "display_name": "Python 3"
    },
    "language_info": {
      "name": "python"
    }
  },
  "cells": [
    {
      "cell_type": "markdown",
      "metadata": {
        "id": "view-in-github",
        "colab_type": "text"
      },
      "source": [
        "<a href=\"https://colab.research.google.com/github/nse-yu/colab-ML/blob/main/human_faces_detection.ipynb\" target=\"_parent\"><img src=\"https://colab.research.google.com/assets/colab-badge.svg\" alt=\"Open In Colab\"/></a>"
      ]
    },
    {
      "cell_type": "code",
      "execution_count": 1,
      "metadata": {
        "id": "EeMdAXxjpPd0"
      },
      "outputs": [],
      "source": [
        "import matplotlib.pyplot as plt\n",
        "import os\n",
        "import cv2\n",
        "import glob\n",
        "import numpy as np\n",
        "import pandas as pd\n",
        "from PIL import Image"
      ]
    },
    {
      "cell_type": "code",
      "source": [
        "faces_info = pd.read_json(\"/content/drive/MyDrive/data/json/via_project_22Jun2022_13h14m_json.json\")"
      ],
      "metadata": {
        "id": "1HQWqafKps1c"
      },
      "execution_count": 2,
      "outputs": []
    },
    {
      "cell_type": "markdown",
      "source": [
        "> jsonファイルはデータフレームで受け取る"
      ],
      "metadata": {
        "id": "lbmtVgM9qM3S"
      }
    },
    {
      "cell_type": "code",
      "source": [
        "print(type(faces_info))"
      ],
      "metadata": {
        "colab": {
          "base_uri": "https://localhost:8080/"
        },
        "id": "OMOP0JXyqFfU",
        "outputId": "fef62a88-5506-4f5e-d3da-3bc3fef72cb8"
      },
      "execution_count": 3,
      "outputs": [
        {
          "output_type": "stream",
          "name": "stdout",
          "text": [
            "<class 'pandas.core.frame.DataFrame'>\n"
          ]
        }
      ]
    },
    {
      "cell_type": "markdown",
      "source": [
        "> 確認"
      ],
      "metadata": {
        "id": "mV6uWgB0qSAs"
      }
    },
    {
      "cell_type": "code",
      "source": [
        "keys = faces_info.keys()\n",
        "#print(keys)\n",
        "\n",
        "#各エントリはタプルで与えられる\n",
        "#各タプルは２要素構成で、0にエントリ名、1にすべてのデータが格納\n",
        "for entry in faces_info.iterrows(): #filename, size, regions, file_attributes\n",
        "  print(type(entry[1]),entry[0])\n",
        "\n",
        "for key in faces_info.keys():\n",
        "  print(\"----------------------------------\")\n",
        "  print(faces_info[key]) #Seriesオブジェクト単位\n",
        "\n",
        "paths = [faces_info[key][\"filename\"] for key in faces_info.keys()]\n",
        "print(paths)"
      ],
      "metadata": {
        "colab": {
          "base_uri": "https://localhost:8080/"
        },
        "id": "LZpqddTUqUTX",
        "outputId": "96123fc0-5f5f-46e6-b0ad-f5d2ae9c8951"
      },
      "execution_count": 36,
      "outputs": [
        {
          "output_type": "stream",
          "name": "stdout",
          "text": [
            "<class 'pandas.core.series.Series'> filename\n",
            "<class 'pandas.core.series.Series'> size\n",
            "<class 'pandas.core.series.Series'> regions\n",
            "<class 'pandas.core.series.Series'> file_attributes\n",
            "----------------------------------\n",
            "filename                                      Aaron_Eckhart_0001.jpg\n",
            "size                                                            6855\n",
            "regions            [{'shape_attributes': {'name': 'ellipse', 'cx'...\n",
            "file_attributes                                                   {}\n",
            "Name: Aaron_Eckhart_0001.jpg6855, dtype: object\n",
            "----------------------------------\n",
            "filename                                        Aaron_Guiel_0001.jpg\n",
            "size                                                            9631\n",
            "regions            [{'shape_attributes': {'name': 'ellipse', 'cx'...\n",
            "file_attributes                                                   {}\n",
            "Name: Aaron_Guiel_0001.jpg9631, dtype: object\n",
            "----------------------------------\n",
            "filename                                    Aaron_Patterson_0001.jpg\n",
            "size                                                            7556\n",
            "regions            [{'shape_attributes': {'name': 'ellipse', 'cx'...\n",
            "file_attributes                                                   {}\n",
            "Name: Aaron_Patterson_0001.jpg7556, dtype: object\n",
            "----------------------------------\n",
            "filename                                      Aaron_Peirsol_0001.jpg\n",
            "size                                                            7877\n",
            "regions            [{'shape_attributes': {'name': 'ellipse', 'cx'...\n",
            "file_attributes                                                   {}\n",
            "Name: Aaron_Peirsol_0001.jpg7877, dtype: object\n",
            "----------------------------------\n",
            "filename                                      Aaron_Peirsol_0002.jpg\n",
            "size                                                            9700\n",
            "regions            [{'shape_attributes': {'name': 'ellipse', 'cx'...\n",
            "file_attributes                                                   {}\n",
            "Name: Aaron_Peirsol_0002.jpg9700, dtype: object\n",
            "----------------------------------\n",
            "filename                                      Aaron_Peirsol_0003.jpg\n",
            "size                                                            8421\n",
            "regions            [{'shape_attributes': {'name': 'ellipse', 'cx'...\n",
            "file_attributes                                                   {}\n",
            "Name: Aaron_Peirsol_0003.jpg8421, dtype: object\n",
            "----------------------------------\n",
            "filename                                      Aaron_Peirsol_0004.jpg\n",
            "size                                                           10404\n",
            "regions            [{'shape_attributes': {'name': 'ellipse', 'cx'...\n",
            "file_attributes                                                   {}\n",
            "Name: Aaron_Peirsol_0004.jpg10404, dtype: object\n",
            "----------------------------------\n",
            "filename                                         Aaron_Pena_0001.jpg\n",
            "size                                                            8045\n",
            "regions            [{'shape_attributes': {'name': 'ellipse', 'cx'...\n",
            "file_attributes                                                   {}\n",
            "Name: Aaron_Pena_0001.jpg8045, dtype: object\n",
            "----------------------------------\n",
            "filename                                       Aaron_Sorkin_0001.jpg\n",
            "size                                                            7817\n",
            "regions            [{'shape_attributes': {'name': 'ellipse', 'cx'...\n",
            "file_attributes                                                   {}\n",
            "Name: Aaron_Sorkin_0001.jpg7817, dtype: object\n",
            "----------------------------------\n",
            "filename                                       Aaron_Sorkin_0002.jpg\n",
            "size                                                            7253\n",
            "regions            [{'shape_attributes': {'name': 'ellipse', 'cx'...\n",
            "file_attributes                                                   {}\n",
            "Name: Aaron_Sorkin_0002.jpg7253, dtype: object\n",
            "----------------------------------\n",
            "filename                                       Aaron_Tippin_0001.jpg\n",
            "size                                                            8592\n",
            "regions            [{'shape_attributes': {'name': 'ellipse', 'cx'...\n",
            "file_attributes                                                   {}\n",
            "Name: Aaron_Tippin_0001.jpg8592, dtype: object\n",
            "----------------------------------\n",
            "filename                                          Abba_Eban_0001.jpg\n",
            "size                                                            7032\n",
            "regions            [{'shape_attributes': {'name': 'ellipse', 'cx'...\n",
            "file_attributes                                                   {}\n",
            "Name: Abba_Eban_0001.jpg7032, dtype: object\n",
            "----------------------------------\n",
            "filename                                   Abbas_Kiarostami_0001.jpg\n",
            "size                                                            8455\n",
            "regions            [{'shape_attributes': {'name': 'ellipse', 'cx'...\n",
            "file_attributes                                                   {}\n",
            "Name: Abbas_Kiarostami_0001.jpg8455, dtype: object\n",
            "----------------------------------\n",
            "filename                                Abdel_Aziz_Al-Hakim_0001.jpg\n",
            "size                                                           11538\n",
            "regions            [{'shape_attributes': {'name': 'ellipse', 'cx'...\n",
            "file_attributes                                                   {}\n",
            "Name: Abdel_Aziz_Al-Hakim_0001.jpg11538, dtype: object\n",
            "----------------------------------\n",
            "filename                                 Abdel_Madi_Shabneh_0001.jpg\n",
            "size                                                            9123\n",
            "regions            [{'shape_attributes': {'name': 'ellipse', 'cx'...\n",
            "file_attributes                                                   {}\n",
            "Name: Abdel_Madi_Shabneh_0001.jpg9123, dtype: object\n",
            "----------------------------------\n",
            "filename                                Abdel_Nasser_Assidi_0001.jpg\n",
            "size                                                            9562\n",
            "regions            [{'shape_attributes': {'name': 'ellipse', 'cx'...\n",
            "file_attributes                                                   {}\n",
            "Name: Abdel_Nasser_Assidi_0001.jpg9562, dtype: object\n",
            "----------------------------------\n",
            "filename                                Abdel_Nasser_Assidi_0002.jpg\n",
            "size                                                           13427\n",
            "regions            [{'shape_attributes': {'name': 'ellipse', 'cx'...\n",
            "file_attributes                                                   {}\n",
            "Name: Abdel_Nasser_Assidi_0002.jpg13427, dtype: object\n",
            "----------------------------------\n",
            "filename                                     Abdoulaye_Wade_0001.jpg\n",
            "size                                                            9562\n",
            "regions            [{'shape_attributes': {'name': 'ellipse', 'cx'...\n",
            "file_attributes                                                   {}\n",
            "Name: Abdoulaye_Wade_0001.jpg9562, dtype: object\n",
            "['Aaron_Eckhart_0001.jpg', 'Aaron_Guiel_0001.jpg', 'Aaron_Patterson_0001.jpg', 'Aaron_Peirsol_0001.jpg', 'Aaron_Peirsol_0002.jpg', 'Aaron_Peirsol_0003.jpg', 'Aaron_Peirsol_0004.jpg', 'Aaron_Pena_0001.jpg', 'Aaron_Sorkin_0001.jpg', 'Aaron_Sorkin_0002.jpg', 'Aaron_Tippin_0001.jpg', 'Abba_Eban_0001.jpg', 'Abbas_Kiarostami_0001.jpg', 'Abdel_Aziz_Al-Hakim_0001.jpg', 'Abdel_Madi_Shabneh_0001.jpg', 'Abdel_Nasser_Assidi_0001.jpg', 'Abdel_Nasser_Assidi_0002.jpg', 'Abdoulaye_Wade_0001.jpg']\n"
          ]
        }
      ]
    }
  ]
}